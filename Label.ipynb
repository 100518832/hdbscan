{
 "cells": [
  {
   "cell_type": "markdown",
   "metadata": {},
   "source": [
    "##Label\n"
   ]
  },
  {
   "cell_type": "markdown",
   "metadata": {
    "collapsed": true
   },
   "source": [
    "**Input:** numpy array of triples: (a, b, delta) where a and b are points (representing clusters) that were merged together at time delta. The array must already be sorted by delta.\n",
    "\n",
    "**Output:** array of triples (ca, cb, delta) where ca, cb are cluster labels that are being merged at time delta."
   ]
  },
  {
   "cell_type": "code",
   "execution_count": 65,
   "metadata": {
    "collapsed": true
   },
   "outputs": [],
   "source": [
    "import numpy as np\n",
    "import sys\n",
    "import pandas as pd"
   ]
  },
  {
   "cell_type": "code",
   "execution_count": 92,
   "metadata": {
    "collapsed": false
   },
   "outputs": [],
   "source": [
    "class UnionFind:\n",
    "    def __init__(self, N):\n",
    "        self.parent = np.array([-1] * (2*N-1))\n",
    "        self.next_label = N\n",
    "        \n",
    "    def union(self, m, n):\n",
    "        self.parent[m] = self.next_label\n",
    "        self.parent[n] = self.next_label\n",
    "        self.next_label += 1\n",
    "        \n",
    "    def find(self, n):\n",
    "        while self.parent[n] != -1 :\n",
    "            n = self.parent[n]\n",
    "        return n\n",
    "    \n",
    "    def fast_find(self, n):\n",
    "        p = n\n",
    "        while self.parent[n] != -1 :\n",
    "            n = self.parent[n]\n",
    "        while self.parent[p] != n: # label all the way up to the root\n",
    "            (p, self.parent[p]) = (self.parent[p], n)\n",
    "        return n"
   ]
  },
  {
   "cell_type": "code",
   "execution_count": 93,
   "metadata": {
    "collapsed": false
   },
   "outputs": [],
   "source": [
    "def label(L, do_fast_find=True):\n",
    "    LL = []\n",
    "    N = len(L) + 1\n",
    "    U = UnionFind(N)\n",
    "    for idx, (a, b, delta) in enumerate(L):\n",
    "        if do_fast_find:\n",
    "            LL.append((U.fast_find(a), U.fast_find(b), delta))\n",
    "        else:\n",
    "            LL.append((U.find(a), U.find(b), delta))\n",
    "        U.union(a, b)\n",
    "    return LL"
   ]
  },
  {
   "cell_type": "markdown",
   "metadata": {},
   "source": [
    "## Testing"
   ]
  },
  {
   "cell_type": "code",
   "execution_count": 2,
   "metadata": {
    "collapsed": true
   },
   "outputs": [],
   "source": [
    "import sklearn.datasets\n",
    "import scipy.cluster.hierarchy as hac\n"
   ]
  },
  {
   "cell_type": "code",
   "execution_count": 3,
   "metadata": {
    "collapsed": true
   },
   "outputs": [],
   "source": [
    "iris = sklearn.datasets.load_iris()"
   ]
  },
  {
   "cell_type": "code",
   "execution_count": 5,
   "metadata": {
    "collapsed": false
   },
   "outputs": [],
   "source": [
    "data = iris.data"
   ]
  },
  {
   "cell_type": "code",
   "execution_count": 99,
   "metadata": {
    "collapsed": false
   },
   "outputs": [],
   "source": []
  },
  {
   "cell_type": "code",
   "execution_count": 100,
   "metadata": {
    "collapsed": true
   },
   "outputs": [],
   "source": [
    "import scipy"
   ]
  },
  {
   "cell_type": "code",
   "execution_count": 102,
   "metadata": {
    "collapsed": false
   },
   "outputs": [],
   "source": [
    "a = np.array([[0,   0  ],\n",
    "              [1,   0  ],\n",
    "              [0,   1  ],\n",
    "              [1,   1  ], \n",
    "              [0.5, 0  ],\n",
    "              [0,   0.5],\n",
    "              [0.5, 0.5],\n",
    "              [2,   2  ],\n",
    "              [2,   3  ],\n",
    "              [3,   2  ],\n",
    "              [3,   3  ]])"
   ]
  },
  {
   "cell_type": "markdown",
   "metadata": {},
   "source": [
    "## Example"
   ]
  },
  {
   "cell_type": "code",
   "execution_count": null,
   "metadata": {
    "collapsed": true
   },
   "outputs": [],
   "source": [
    "import scipy.cluster.hierarchy as hac\n",
    "import matplotlib.pyplot as plt\n",
    "import numpy as np"
   ]
  },
  {
   "cell_type": "code",
   "execution_count": 3,
   "metadata": {
    "collapsed": true
   },
   "outputs": [],
   "source": [
    "a = np.array([[0.1,   2.5],\n",
    "              [1.5,   .4 ],\n",
    "              [0.3,   1  ],\n",
    "              [1  ,   .8 ],\n",
    "              [0.5,   0  ],\n",
    "              [0  ,   0.5],\n",
    "              [0.5,   0.5],\n",
    "              [2.7,   2  ],\n",
    "              [2.2,   3.1],\n",
    "              [3  ,   2  ],\n",
    "              [3.2,   1.3]])\n",
    "\n",
    "hac"
   ]
  },
  {
   "cell_type": "code",
   "execution_count": null,
   "metadata": {
    "collapsed": false
   },
   "outputs": [],
   "source": [
    "for method, axes in zip(['single', 'complete'], axes23):\n",
    "    z = hac.linkage(a, method=method)\n",
    "\n",
    "    # Plotting\n",
    "    axes[0].plot(range(1, len(z)+1), z[::-1, 2])\n",
    "    knee = np.diff(z[::-1, 2], 2)\n",
    "    axes[0].plot(range(2, len(z)), knee)\n",
    "\n",
    "    num_clust1 = knee.argmax() + 2\n",
    "    knee[knee.argmax()] = 0\n",
    "    num_clust2 = knee.argmax() + 2\n",
    "\n",
    "    axes[0].text(num_clust1, z[::-1, 2][num_clust1-1], 'possible\\n<- knee point')\n",
    "\n",
    "    part1 = hac.fcluster(z, num_clust1, 'maxclust')\n",
    "    part2 = hac.fcluster(z, num_clust2, 'maxclust')\n",
    "\n",
    "    clr = ['#2200CC' ,'#D9007E' ,'#FF6600' ,'#FFCC00' ,'#ACE600' ,'#0099CC' ,\n",
    "    '#8900CC' ,'#FF0000' ,'#FF9900' ,'#FFFF00' ,'#00CC01' ,'#0055CC']\n",
    "\n",
    "    for part, ax in zip([part1, part2], axes[1:]):\n",
    "        for cluster in set(part):\n",
    "            ax.scatter(a[part == cluster, 0], a[part == cluster, 1], \n",
    "                       color=clr[cluster])\n",
    "\n",
    "    m = '\\n(method: {})'.format(method)\n",
    "    plt.setp(axes[0], title='Screeplot{}'.format(m), xlabel='partition',\n",
    "             ylabel='{}\\ncluster distance'.format(m))\n",
    "    plt.setp(axes[1], title='{} Clusters'.format(num_clust1))\n",
    "    plt.setp(axes[2], title='{} Clusters'.format(num_clust2))\n",
    "\n",
    "plt.tight_layout()\n",
    "plt.show()"
   ]
  },
  {
   "cell_type": "code",
   "execution_count": null,
   "metadata": {
    "collapsed": true
   },
   "outputs": [],
   "source": []
  }
 ],
 "metadata": {
  "kernelspec": {
   "display_name": "Python 2",
   "language": "python",
   "name": "python2"
  },
  "language_info": {
   "codemirror_mode": {
    "name": "ipython",
    "version": 2
   },
   "file_extension": ".py",
   "mimetype": "text/x-python",
   "name": "python",
   "nbconvert_exporter": "python",
   "pygments_lexer": "ipython2",
   "version": "2.7.9"
  }
 },
 "nbformat": 4,
 "nbformat_minor": 0
}
