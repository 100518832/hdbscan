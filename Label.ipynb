{
 "cells": [
  {
   "cell_type": "markdown",
   "metadata": {},
   "source": [
    "##Label\n"
   ]
  },
  {
   "cell_type": "code",
   "execution_count": null,
   "metadata": {
    "collapsed": true
   },
   "outputs": [],
   "source": []
  },
  {
   "cell_type": "code",
   "execution_count": 1,
   "metadata": {
    "collapsed": true
   },
   "outputs": [],
   "source": [
    "import numpy as np"
   ]
  },
  {
   "cell_type": "code",
   "execution_count": 16,
   "metadata": {
    "collapsed": false
   },
   "outputs": [],
   "source": [
    "class UnionFind:\n",
    "    def __init__(self, N):\n",
    "        self.parent = np.array([-1] * (2*N-1))\n",
    "        self.next_label = N\n",
    "        \n",
    "    def union(self, m, n):\n",
    "        self.parent[m] = self.next_label\n",
    "        self.parent[n] = self.next_label\n",
    "        ++self.next_label\n",
    "        \n",
    "    def find(self, n):\n",
    "        while self.parent[n] != -1 :\n",
    "            n = self.parent[n]\n",
    "        return n\n",
    "    \n",
    "    def fast_find(self, n):\n",
    "        p = n\n",
    "        while self.parent[n] != -1 :\n",
    "            n = self.parent[n]\n",
    "        while p != n: # label all the way up to the root\n",
    "            (p, self.parent[p]) = (self.parent[p], n)"
   ]
  },
  {
   "cell_type": "code",
   "execution_count": 18,
   "metadata": {
    "collapsed": true
   },
   "outputs": [],
   "source": [
    "def label(L):\n",
    "    LL = []\n",
    "    N = len(L) + 1\n",
    "    U = UnionFind(N)\n",
    "    for (a, b, delta) in L:\n",
    "        LL.append((U.fast_find(a), U.fast_find(b), delta))\n",
    "        U.union(a, b)\n",
    "    return np.array(LL)"
   ]
  },
  {
   "cell_type": "code",
   "execution_count": null,
   "metadata": {
    "collapsed": true
   },
   "outputs": [],
   "source": []
  }
 ],
 "metadata": {
  "kernelspec": {
   "display_name": "Python 2",
   "language": "python",
   "name": "python2"
  },
  "language_info": {
   "codemirror_mode": {
    "name": "ipython",
    "version": 2
   },
   "file_extension": ".py",
   "mimetype": "text/x-python",
   "name": "python",
   "nbconvert_exporter": "python",
   "pygments_lexer": "ipython2",
   "version": "2.7.9"
  }
 },
 "nbformat": 4,
 "nbformat_minor": 0
}
