{
 "cells": [
  {
   "cell_type": "code",
   "execution_count": 2,
   "metadata": {
    "collapsed": true
   },
   "outputs": [],
   "source": [
    "import numpy as np\n",
    "import scipy.spatial.distance as dist"
   ]
  },
  {
   "cell_type": "code",
   "execution_count": 1,
   "metadata": {
    "collapsed": true
   },
   "outputs": [],
   "source": [
    "class UnionFind:\n",
    "    \n",
    "    def __init__(self, N):\n",
    "        self.parent = np.array([-1] * (2*N-1))\n",
    "        self.next_label = N\n",
    "        self.size = np.array([1] * N)\n",
    "        self.size = np.concatenate([self.size, np.array([0] * (N-1))])\n",
    "        \n",
    "    def union(self, m, n):\n",
    "        self.size[self.next_label] = self.size[m] + self.size[n]\n",
    "        self.parent[m] = self.next_label\n",
    "        self.parent[n] = self.next_label\n",
    "        self.size[self.next_label] = self.size[m] + self.size[n]\n",
    "        self.next_label += 1\n",
    "        \n",
    "    def find(self, n):\n",
    "        while self.parent[n] != -1 :\n",
    "            n = self.parent[n]\n",
    "        return n\n",
    "    \n",
    "    def fast_find(self, n):\n",
    "        p = n\n",
    "        while self.parent[n] != -1 :\n",
    "            n = self.parent[n]\n",
    "        while self.parent[p] != n: # label all the way up to the root\n",
    "            (p, self.parent[p]) = (self.parent[p], n)\n",
    "        return n"
   ]
  },
  {
   "cell_type": "code",
   "execution_count": 23,
   "metadata": {
    "collapsed": true
   },
   "outputs": [],
   "source": [
    "class Hdbscan:\n",
    "    \n",
    "    def label(self, L, do_fast_find=True):\n",
    "        LL = []\n",
    "        N = len(L) + 1 # QUESTION: why isn't this len(L)??\n",
    "        U = UnionFind(N)\n",
    "        for idx, (a, b, delta) in enumerate(L):\n",
    "            if do_fast_find:\n",
    "                aa, bb = (U.fast_find(a), U.fast_find(b))\n",
    "            else:\n",
    "                aa, bb = (U.find(a), U.find(b))\n",
    "            LL.append((aa, bb, delta, U.size[aa] + U.size[bb]))      \n",
    "            U.union(aa, bb)\n",
    "        return LL\n",
    "\n",
    "    def base_mst_linkage_core(self, node_labels, distance_matrix):\n",
    "        result = []\n",
    "        current_node = np.random.choice(node_labels)\n",
    "        level_distances = np.infty * np.ones((node_labels.shape[0], node_labels.shape[0]))\n",
    "        current_labels = node_labels\n",
    "        for i in xrange(1,node_labels.shape[0]):\n",
    "            current_labels = current_labels[current_labels != current_node]\n",
    "            for other_node in current_labels:\n",
    "                level_distances[i][other_node] = min(level_distances[i-1][other_node], \n",
    "                                                    distance_matrix[other_node,current_node])\n",
    "\n",
    "            new_node_index = np.argmin(level_distances[i][current_labels])\n",
    "            new_node = current_labels[new_node_index]\n",
    "            result.append([current_node, new_node, level_distances[i][new_node]])\n",
    "            current_node = new_node\n",
    "        return result\n",
    "    \n",
    "    def linkage(self, data):\n",
    "        distance_matrix = dist.squareform(dist.pdist(data))\n",
    "        labels = np.arange(len(data))\n",
    "        hierarchy = np.array(self.base_mst_linkage_core(labels, distance_matrix))\n",
    "        sort_order = np.argsort(hierarchy.T[2])\n",
    "        data_for_steve = hierarchy[sort_order,:]\n",
    "        return self.label(data_for_steve)"
   ]
  },
  {
   "cell_type": "markdown",
   "metadata": {},
   "source": [
    "## Test"
   ]
  },
  {
   "cell_type": "code",
   "execution_count": 37,
   "metadata": {
    "collapsed": true
   },
   "outputs": [],
   "source": [
    "import sklearn.datasets"
   ]
  },
  {
   "cell_type": "code",
   "execution_count": 38,
   "metadata": {
    "collapsed": true
   },
   "outputs": [],
   "source": [
    "iris = sklearn.datasets.load_iris()"
   ]
  },
  {
   "cell_type": "code",
   "execution_count": 39,
   "metadata": {
    "collapsed": true
   },
   "outputs": [],
   "source": [
    "clu = Hdbscan()"
   ]
  },
  {
   "cell_type": "code",
   "execution_count": 40,
   "metadata": {
    "collapsed": false
   },
   "outputs": [],
   "source": [
    "z = clu.linkage(iris.data)"
   ]
  },
  {
   "cell_type": "code",
   "execution_count": 68,
   "metadata": {
    "collapsed": false
   },
   "outputs": [],
   "source": [
    "import scipy.cluster.hierarchy as hac\n",
    "%matplotlib inline\n",
    "import matplotlib.pyplot as plt\n",
    "plt.rcParams['figure.figsize'] = (10, 5)\n"
   ]
  },
  {
   "cell_type": "code",
   "execution_count": 69,
   "metadata": {
    "collapsed": false
   },
   "outputs": [
    {
     "data": {
      "image/png": "[encoded data removed]",
      "text/plain": [
       "<matplotlib.figure.Figure at 0x10a055b90>"
      ]
     },
     "metadata": {},
     "output_type": "display_data"
    }
   ],
   "source": [
    "R = hac.dendrogram(z)"
   ]
  },
  {
   "cell_type": "code",
   "execution_count": 70,
   "metadata": {
    "collapsed": false
   },
   "outputs": [
    {
     "data": {
      "image/png": "[encoded data removed]",
      "text/plain": [
       "<matplotlib.figure.Figure at 0x10a1b5890>"
      ]
     },
     "metadata": {},
     "output_type": "display_data"
    }
   ],
   "source": [
    "R = hac.dendrogram(hac.linkage(iris.data))"
   ]
  },
  {
   "cell_type": "code",
   "execution_count": null,
   "metadata": {
    "collapsed": true
   },
   "outputs": [],
   "source": []
  }
 ],
 "metadata": {
  "kernelspec": {
   "display_name": "Python 2",
   "language": "python",
   "name": "python2"
  },
  "language_info": {
   "codemirror_mode": {
    "name": "ipython",
    "version": 2
   },
   "file_extension": ".py",
   "mimetype": "text/x-python",
   "name": "python",
   "nbconvert_exporter": "python",
   "pygments_lexer": "ipython2",
   "version": "2.7.9"
  }
 },
 "nbformat": 4,
 "nbformat_minor": 0
}
