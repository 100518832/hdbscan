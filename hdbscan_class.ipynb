{
 "cells": [
  {
   "cell_type": "code",
   "execution_count": 73,
   "metadata": {
    "collapsed": true
   },
   "outputs": [],
   "source": [
    "import numpy as np\n",
    "import scipy.spatial.distance as dist"
   ]
  },
  {
   "cell_type": "code",
   "execution_count": 74,
   "metadata": {
    "collapsed": true
   },
   "outputs": [],
   "source": [
    "class UnionFind:\n",
    "    \n",
    "    def __init__(self, N):\n",
    "        self.parent = np.array([-1] * (2*N-1))\n",
    "        self.next_label = N\n",
    "        self.size = np.array([1] * N)\n",
    "        self.size = np.concatenate([self.size, np.array([0] * (N-1))])\n",
    "        \n",
    "    def union(self, m, n):\n",
    "        self.size[self.next_label] = self.size[m] + self.size[n]\n",
    "        self.parent[m] = self.next_label\n",
    "        self.parent[n] = self.next_label\n",
    "        self.size[self.next_label] = self.size[m] + self.size[n]\n",
    "        self.next_label += 1\n",
    "        \n",
    "    def find(self, n):\n",
    "        while self.parent[n] != -1 :\n",
    "            n = self.parent[n]\n",
    "        return n\n",
    "    \n",
    "    def fast_find(self, n):\n",
    "        p = n\n",
    "        while self.parent[n] != -1 :\n",
    "            n = self.parent[n]\n",
    "        while self.parent[p] != n: # label all the way up to the root\n",
    "            (p, self.parent[p]) = (self.parent[p], n)\n",
    "        return n"
   ]
  },
  {
   "cell_type": "markdown",
   "metadata": {},
   "source": [
    "### Mutual Reachability \"Graph\"\n",
    "\n",
    "Build the mutual reachability graph from a distance matrix. We are operating with the following definitions per 'Campello, Moulavi, Sander':\n",
    "\n",
    "**Core Distance**: The core distance of an object $x_p \\in X$ with respect to $m_{\\textrm{pts}}$ is the distance from $x_p$ to its $m_{\\textrm{pts}}$-nearest neighbour.\n",
    "\n",
    "**Mutual Reachability Distance**: The mutual reachability distance between two objects $x_p$ and $x_q$ in $X$ with respect to $m_{\\textrm{pts}}$ is defined as $d_{\\textrm{mreach}} = \\max\\{d_{\\textrm{core}}(x_p), d_{\\textrm{core}}(x_q), d(x_p, x_q)\\}$.\n",
    "\n",
    "### Core Single Linkage via Minimal Spanning Tree\n",
    "Working from Mullner's paper we are going to implement our own MST-LINKAGE-CORE so we can handle HDBSCANs mutual reachability graphs (which have non-zero self distances). The goal here is to start with a simple implemetation and then progressively profile and refine and use whatever we can (cython, numba, etc.) to try and make it run as fast as possible because this is the core of the algorithm.\n",
    "\n",
    "### Label\n",
    "Code based on algorithm on pg 14 of \"Modern hierarchical, agglomerative clustering algorithms\" by Daniel Mullner\n",
    "\n",
    "**Input:** numpy array of triples: (a, b, delta) where a and b are points (representing clusters) that were merged together at time delta. The array must already be sorted by delta.\n",
    "\n",
    "**Output:** array of triples (ca, cb, delta) where ca, cb are cluster labels that are being merged at time delta.\n",
    "\n",
    "**Notes:**\n",
    "pg 14 error in Label(L): should call U.UNION() with find(a), find(b) rather than a, b"
   ]
  },
  {
   "cell_type": "code",
   "execution_count": 75,
   "metadata": {
    "collapsed": false
   },
   "outputs": [],
   "source": [
    "class Hdbscan:\n",
    "    \n",
    "    def label(self, L, do_fast_find=True):\n",
    "        LL = []\n",
    "        N = len(L) + 1 # QUESTION: why isn't this len(L)??\n",
    "        U = UnionFind(N)\n",
    "        for idx, (a, b, delta) in enumerate(L):\n",
    "            if do_fast_find:\n",
    "                aa, bb = (U.fast_find(a), U.fast_find(b))\n",
    "            else:\n",
    "                aa, bb = (U.find(a), U.find(b))\n",
    "            LL.append((aa, bb, delta, U.size[aa] + U.size[bb]))      \n",
    "            U.union(aa, bb)\n",
    "        return LL\n",
    "\n",
    "     # from Mutual Reachability notebook\n",
    "    def mutual_reachability_distance_matrix(self, distance_matrix, min_points):\n",
    "        core_distances = np.partition(distance_matrix, min_points, axis=0)[min_points]\n",
    "        core_distance_matrix = core_distances.repeat(len(distance_matrix)).reshape(distance_matrix.shape())\n",
    "        result = np.dstack((core_distance_matrix, core_distance_matrix.T, distance_matrix)).max(axis=2)\n",
    "        return result\n",
    "    \n",
    "    def base_mst_linkage_core(self, node_labels, distance_matrix):\n",
    "        result = []\n",
    "        current_node = np.random.choice(node_labels)\n",
    "        level_distances = np.infty * np.ones((node_labels.shape[0], node_labels.shape[0]))\n",
    "        current_labels = node_labels\n",
    "        for i in xrange(1,node_labels.shape[0]):\n",
    "            current_labels = current_labels[current_labels != current_node]\n",
    "            for other_node in current_labels:\n",
    "                level_distances[i][other_node] = min(level_distances[i-1][other_node], \n",
    "                                                    distance_matrix[other_node,current_node])\n",
    "\n",
    "            new_node_index = np.argmin(level_distances[i][current_labels])\n",
    "            new_node = current_labels[new_node_index]\n",
    "            result.append([current_node, new_node, level_distances[i][new_node]])\n",
    "            current_node = new_node\n",
    "        return result\n",
    "    \n",
    "    def linkage(self, data):\n",
    "        distance_matrix = dist.squareform(dist.pdist(data))\n",
    "        labels = np.arange(len(data))\n",
    "        hierarchy = np.array(self.base_mst_linkage_core(labels, distance_matrix))\n",
    "        sort_order = np.argsort(hierarchy.T[2])\n",
    "        data_for_steve = hierarchy[sort_order,:]\n",
    "        return self.label(data_for_steve)"
   ]
  },
  {
   "cell_type": "markdown",
   "metadata": {},
   "source": [
    "## Test"
   ]
  },
  {
   "cell_type": "code",
   "execution_count": 76,
   "metadata": {
    "collapsed": true
   },
   "outputs": [],
   "source": [
    "import sklearn.datasets"
   ]
  },
  {
   "cell_type": "code",
   "execution_count": 77,
   "metadata": {
    "collapsed": true
   },
   "outputs": [],
   "source": [
    "iris = sklearn.datasets.load_iris()"
   ]
  },
  {
   "cell_type": "code",
   "execution_count": 78,
   "metadata": {
    "collapsed": true
   },
   "outputs": [],
   "source": [
    "clu = Hdbscan()"
   ]
  },
  {
   "cell_type": "code",
   "execution_count": 79,
   "metadata": {
    "collapsed": false
   },
   "outputs": [],
   "source": [
    "z = clu.linkage(iris.data)"
   ]
  },
  {
   "cell_type": "code",
   "execution_count": 80,
   "metadata": {
    "collapsed": false
   },
   "outputs": [],
   "source": [
    "import scipy.cluster.hierarchy as hac\n",
    "%matplotlib inline\n",
    "import matplotlib.pyplot as plt\n",
    "plt.rcParams['figure.figsize'] = (10, 5)"
   ]
  },
  {
   "cell_type": "code",
   "execution_count": 81,
   "metadata": {
    "collapsed": false
   },
   "outputs": [
    {
     "data": {
      "image/png": "[encoded data removed]",
      "text/plain": [
       "<matplotlib.figure.Figure at 0x109c9d2d0>"
      ]
     },
     "metadata": {},
     "output_type": "display_data"
    }
   ],
   "source": [
    "R = hac.dendrogram(z)"
   ]
  },
  {
   "cell_type": "code",
   "execution_count": 70,
   "metadata": {
    "collapsed": false
   },
   "outputs": [
    {
     "data": {
      "image/png": "[encoded data removed]",
      "text/plain": [
       "<matplotlib.figure.Figure at 0x10a1b5890>"
      ]
     },
     "metadata": {},
     "output_type": "display_data"
    }
   ],
   "source": [
    "R = hac.dendrogram(hac.linkage(iris.data))"
   ]
  },
  {
   "cell_type": "code",
   "execution_count": null,
   "metadata": {
    "collapsed": true
   },
   "outputs": [],
   "source": []
  }
 ],
 "metadata": {
  "kernelspec": {
   "display_name": "Python 2",
   "language": "python",
   "name": "python2"
  },
  "language_info": {
   "codemirror_mode": {
    "name": "ipython",
    "version": 2
   },
   "file_extension": ".py",
   "mimetype": "text/x-python",
   "name": "python",
   "nbconvert_exporter": "python",
   "pygments_lexer": "ipython2",
   "version": "2.7.9"
  }
 },
 "nbformat": 4,
 "nbformat_minor": 0
}
