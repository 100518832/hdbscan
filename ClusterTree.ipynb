{
 "cells": [
  {
   "cell_type": "code",
   "execution_count": 5,
   "metadata": {
    "collapsed": false
   },
   "outputs": [],
   "source": [
    "class Node:    \n",
    "    def __init__(self, new_id, new_dist, new_children, new_leaf):\n",
    "        self.is_leaf = new_leaf\n",
    "        self.children = new_children\n",
    "        self.id = new_id\n",
    "        self.dist = new_dist\n",
    "    \n",
    "    def AddChild(self, child):\n",
    "        self.children.append(child)\n",
    "        \n",
    "    def __str__(self):\n",
    "        return \"ID: %d, Lambda %d, Number of Children %d, Leaf node: %s\" % (self.id, self.dist, len(self.children), self.is_leaf)\n",
    "    \n",
    "    #This function consumes a tree and returns the set of leaves\n",
    "    def GetLeaves(self, tree):\n",
    "        leaves = []\n",
    "        \n",
    "        if tree.left.count == 1:\n",
    "            leaves.append(tree.left)\n",
    "            return leaves\n",
    "        if tree.right.count == 1:\n",
    "            leaves.append(tree.right)\n",
    "            return leaves\n",
    "        \n",
    "        while (tree.left.count > 1):\n",
    "            leaves.append(GetLeaves(tree.left))\n",
    "        while (tree.right.count > 1): \n",
    "            leaves.append(GetLeaves(tree.right))\n",
    "    \n",
    "    def ConsumeTree(self, tree):\n",
    "        return ConsumeTree(self, tree, 0)\n",
    "    \n",
    "    def ConsumeTree(self, tree, next_id):\n",
    "        next_id = 0\n",
    "        #How do I consume the lambda information from the tree? \n",
    "        \n",
    "        #Verbose assert\n",
    "        if tree.count == 0:\n",
    "            print(\"Invalid input: Null tree\")\n",
    "            root = Node(-1, -1, [], False)\n",
    "            return\n",
    "        elif tree.count == 1:\n",
    "            #Passed in a single node. Return a root only\n",
    "            root = Node(0, 0, [], True)\n",
    "            print(\"WARNING: Input a single-node tree\")\n",
    "            return\n",
    "        \n",
    "        root = Node(0, 0, [], 0)\n",
    "        \n",
    "        #If the left node is too small, add a leaf\n",
    "        if tree.left.count <= m_clSize:\n",
    "            leaves = GetLeaves(tree.left)\n",
    "            for leaf in leaves:\n",
    "                self.AddChild(Node(leaf.id, tree.dist, [], True))\n",
    "        else:\n",
    "            #Create a new node\n",
    "            node = Node(next_id, this_lambda, [], False)\n",
    "            #Update the id\n",
    "            next_id += 1\n",
    "            self.AddChild(node)\n",
    "            #Consume the new tree\n",
    "            self.ConsumeTree(tree.left, next_id)\n",
    "            \n",
    "        #If the right node is too small, add a leaf\n",
    "        if tree.right.count <= m_clSize:\n",
    "            leaves = self.GetLeaves(tree.left)\n",
    "            for leaf in leaves:\n",
    "                self.AddChild(Node(leaf.id, tree.dist, [], True))\n",
    "        else:\n",
    "            #Create a new node\n",
    "            node = Node(next_id, this_lambda, [], False)\n",
    "            #Update the node id\n",
    "            next_id += 1\n",
    "            \n",
    "            self.AddChild(node)\n",
    "            #Consume the new tree\n",
    "            self.ConsumeTree(tree.right, next_id)\n",
    "        \n",
    "        return\n",
    "    "
   ]
  },
  {
   "cell_type": "code",
   "execution_count": 6,
   "metadata": {
    "collapsed": false
   },
   "outputs": [],
   "source": [
    "test = Node(-1, 0, [], False)"
   ]
  },
  {
   "cell_type": "code",
   "execution_count": 7,
   "metadata": {
    "collapsed": false
   },
   "outputs": [
    {
     "name": "stdout",
     "output_type": "stream",
     "text": [
      "ID: -1, Lambda 0, Number of Children 0, Leaf node: False\n"
     ]
    }
   ],
   "source": [
    "print(test)"
   ]
  },
  {
   "cell_type": "code",
   "execution_count": null,
   "metadata": {
    "collapsed": false
   },
   "outputs": [],
   "source": []
  },
  {
   "cell_type": "code",
   "execution_count": null,
   "metadata": {
    "collapsed": true
   },
   "outputs": [],
   "source": []
  }
 ],
 "metadata": {
  "kernelspec": {
   "display_name": "Python 3",
   "language": "python",
   "name": "python3"
  },
  "language_info": {
   "codemirror_mode": {
    "name": "ipython",
    "version": 3
   },
   "file_extension": ".py",
   "mimetype": "text/x-python",
   "name": "python",
   "nbconvert_exporter": "python",
   "pygments_lexer": "ipython3",
   "version": "3.4.3"
  }
 },
 "nbformat": 4,
 "nbformat_minor": 0
}
