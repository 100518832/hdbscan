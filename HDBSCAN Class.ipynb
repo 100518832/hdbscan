{
 "cells": [
  {
   "cell_type": "code",
   "execution_count": 7,
   "metadata": {
    "collapsed": true
   },
   "outputs": [],
   "source": [
    "import pandas as pd\n",
    "import numpy as np\n",
    "import fastcluster as fc\n",
    "import scipy.cluster.hierarchy as sch\n",
    "import matplotlib.pyplot as plt\n",
    "import seaborn as sns\n",
    "import sklearn.datasets as data\n",
    "\n",
    "%matplotlib inline\n",
    "sns.set_context(\"poster\")"
   ]
  },
  {
   "cell_type": "code",
   "execution_count": 21,
   "metadata": {
    "collapsed": true
   },
   "outputs": [],
   "source": [
    "class CondensedTreeNode:    \n",
    "    def __init__(self, id, dist, children, size, is_leaf):\n",
    "        self.id = id\n",
    "        self.dist = dist\n",
    "        self.children = children\n",
    "        self.child_size = size\n",
    "        self.is_leaf = is_leaf\n",
    "    \n",
    "    def add_child(self, child):\n",
    "        self.children.append(child)\n",
    "\n",
    "    def __repr__(self):\n",
    "        return '<Node object at %s>' % (\n",
    "            hex(id(self))\n",
    "            )\n",
    "        \n",
    "    def __str__(self):\n",
    "        return \"ID: %d, Lambda %d, Number of Children %d, \" \\\n",
    "               \"Number of children %d, Leaf node: %s\" % (self.id, self.dist, len(self.children), \n",
    "                                                         self.child_size, self.is_leaf)\n",
    "\n",
    "def get_leaves(tree):\n",
    "    \"\"\"Consume a tree object and return a list of leaf nodes\"\"\"\n",
    "    return tree.pre_order(lambda x: x)\n",
    "\n",
    "def condense_tree(tree, min_cluster_size=10, next_id=0):\n",
    "        \n",
    "    #Verbose assert\n",
    "    if tree.count == 0:\n",
    "        print(\"Invalid input: Null tree\")\n",
    "        result = Node(-1, -1, [], -1, False)\n",
    "        return result\n",
    "    elif tree.count == 1:\n",
    "        #Passed in a single node. only that node\n",
    "        result = Node(-1, tree.dist, [], 1, True)\n",
    "        return result\n",
    "        \n",
    "    result = CondensedTreeNode(next_id, tree.dist, [], tree.left.count + tree.right.count, 0)\n",
    "        \n",
    "    #If the left node is too small, add a leaf\n",
    "    if tree.left.count <= min_cluster_size:\n",
    "        leaves = get_leaves(tree.left)\n",
    "        for leaf in leaves:\n",
    "            result.add_child(CondensedTreeNode(-(leaf.id + 1), tree.left.dist, [], 1, True))\n",
    "    elif tree.right.count <= min_cluster_size:\n",
    "        child, next_id = condense_tree(tree.left, min_cluster_size, next_id)\n",
    "        result.add_child(child)\n",
    "    else:\n",
    "        child, next_id = condense_tree(tree.left, min_cluster_size, next_id + 1)\n",
    "        result.add_child(child)\n",
    "            \n",
    "    #If the right node is too small, add a leaf\n",
    "    if tree.right.count <= min_cluster_size:\n",
    "        leaves = get_leaves(tree.right)\n",
    "        for leaf in leaves:\n",
    "            result.add_child(CondensedTreeNode(-(leaf.id + 1), tree.right.dist, [], 1, True))\n",
    "    elif tree.left.count <= min_cluster_size:\n",
    "        child, next_id = condense_tree(tree.right, min_cluster_size, next_id)\n",
    "        result.add_child(child)        \n",
    "    else:\n",
    "        child, next_id = condense_tree(tree.right, min_cluster_size, next_id + 1)\n",
    "        result.add_child(child)\n",
    "        \n",
    "    return result, next_id\n",
    "    "
   ]
  },
  {
   "cell_type": "code",
   "execution_count": 22,
   "metadata": {
    "collapsed": true
   },
   "outputs": [],
   "source": [
    "def flatten_node(tree_node):\n",
    "    return [(tree_node.id, x.id, 1.0/tree_node.dist, x.child_size) for x in tree_node.children\n",
    "             if tree_node.id != x.id]\n",
    "\n",
    "def flatten_tree_recursion(tree):\n",
    "    if tree.is_leaf:\n",
    "        return []\n",
    "    result = flatten_node(tree)\n",
    "    for subtree in tree.children:\n",
    "        result.extend(flatten_tree_recursion(subtree))\n",
    "    return result\n",
    "\n",
    "def flatten_tree(tree):\n",
    "    result = flatten_tree_recursion(tree)\n",
    "    return pd.DataFrame(result, columns=(\"parent\",\"child\",\"lambda\",\"child_size\"))"
   ]
  },
  {
   "cell_type": "code",
   "execution_count": 23,
   "metadata": {
    "collapsed": true
   },
   "outputs": [],
   "source": [
    "def stability(row):\n",
    "    return (row[\"lambda_death\"] - row[\"lambda_birth\"]) * row[\"child_size\"]\n",
    "\n",
    "def compute_stability(cluster_tree):\n",
    "    births = cluster_tree.groupby(\"child\").min()[[\"lambda\"]]\n",
    "    births_and_deaths = cluster_tree.join(births, on=\"parent\", lsuffix=\"_death\", rsuffix=\"_birth\")\n",
    "    births_and_deaths[\"stability\"] = births_and_deaths.apply(stability, axis=1)\n",
    "    return births_and_deaths.groupby(\"parent\")[[\"stability\"]].sum() / \\\n",
    "            pd.DataFrame(births_and_deaths.parent.value_counts(), columns=[\"stability\"])\n",
    "    \n",
    "def stability_score(tree_node, stability_table):\n",
    "    node_stability = stability_table.loc[tree_node.id][0]\n",
    "    child_stability = sum(max(stability_score(x, stability_table)) for x in tree_node.children if not x.is_leaf)\n",
    "    return (node_stability, child_stability)\n",
    "\n",
    "def get_clusters(tree_node, stability_table, results={}):\n",
    "    tree_node.score = stability_score(tree_node, stability_table)\n",
    "    if tree_node.score[0] > tree_node.score[1]:\n",
    "        tree_node.is_cluster = True\n",
    "        cluster_id = max(results.keys()) + 1 if results.keys() else 0 \n",
    "        results[cluster_id] = tree_node.points\n",
    "    else:\n",
    "        tree_node.is_cluster = False\n",
    "    if not tree_node.is_cluster:\n",
    "        for node in tree_node.children:\n",
    "            if not node.is_leaf:\n",
    "                get_clusters(node, stability_table, results)\n",
    "    return results\n",
    "\n",
    "def get_leaf_point_ids(tree):\n",
    "    results = []\n",
    "    for node in tree.children:\n",
    "        if node.is_leaf:\n",
    "            results.append(-(node.id - 1))\n",
    "        else:\n",
    "            results.extend(get_leaf_point_ids(node))\n",
    "    return results\n",
    "\n",
    "def reduce_tree(tree):\n",
    "    result = CondensedTreeNode(tree.id, 0, [], 0, 0)\n",
    "    result.points = get_leaf_point_ids(tree)\n",
    "    \n",
    "    children_to_process = tree.children[:]\n",
    "    \n",
    "    for child in children_to_process:\n",
    "        if child.is_leaf:\n",
    "            continue\n",
    "        if child.id == tree.id:\n",
    "            children_to_process.extend(child.children)\n",
    "        else:\n",
    "            result.children.append(reduce_tree(child))\n",
    "            \n",
    "    return result"
   ]
  },
  {
   "cell_type": "code",
   "execution_count": 52,
   "metadata": {
    "collapsed": true
   },
   "outputs": [],
   "source": [
    "class HDBSCAN (object):\n",
    "    \n",
    "    def __init__(self, min_cluster_size=5, min_points=None):\n",
    "        self.min_cluster_size = min_cluster_size\n",
    "        if min_points is None:\n",
    "            self.min_points = min_cluster_size\n",
    "        else:\n",
    "            self.min_points = min_points\n",
    "        self._mutual_reachability_graph = None\n",
    "        self._raw_tree = None\n",
    "        self._tree_frame = None\n",
    "        \n",
    "    def _mutual_reachability(self, distance_matrix):\n",
    "        dim = distance_matrix.shape[0]\n",
    "        core_distances = np.partition(distance_matrix, self.min_points, axis=0)[self.min_points]\n",
    "        core_distance_matrix = core_distances.repeat(dim).reshape((dim,dim))\n",
    "        self._mutual_reachability_graph = np.dstack((core_distance_matrix, \n",
    "                                                     core_distance_matrix.T, \n",
    "                                                     distance_matrix)).max(axis=2)\n",
    "        return\n",
    "    \n",
    "    def _single_linkage(self):\n",
    "        assert(self._mutual_reachability_graph is not None)\n",
    "        #self._raw_tree = single_linkage(self._mutual_reachability_graph)\n",
    "        pdist_array = distance_matrix_to_pdist(self._mutual_reachability_graph)\n",
    "        self._raw_tree = fc.single(pdist_array)\n",
    "        return\n",
    "    \n",
    "    def _condense_tree(self):\n",
    "        assert(self._raw_tree is not None)\n",
    "        base_tree = sch.to_tree(self._raw_tree)\n",
    "        self._condensed_tree, final_id = condense_tree(base_tree, self.min_cluster_size)\n",
    "        self._tree_frame = flatten_tree(self._condensed_tree)\n",
    "        \n",
    "    def _compute_stable_clusters(self):\n",
    "        assert(self._tree_frame is not None)\n",
    "        self._stability_table = compute_stability(self._tree_frame)\n",
    "        self._reduced_tree = reduce_tree(self._condensed_tree)\n",
    "        self._cluster_dict = get_clusters(self._reduced_tree, self._stability_table)\n",
    "    \n",
    "    def fit(self, distance_matrix):\n",
    "        self._mutual_reachability(distance_matrix)\n",
    "        self._single_linkage()\n",
    "        self._condense_tree()\n",
    "        self._compute_stable_clusters()\n",
    "        return self._cluster_dict\n",
    "        "
   ]
  },
  {
   "cell_type": "code",
   "execution_count": 25,
   "metadata": {
    "collapsed": false
   },
   "outputs": [],
   "source": [
    "import scipy.spatial.distance as dist\n",
    "\n",
    "iris = pd.read_csv(\"iris.csv\")\n",
    "distance_matrix = dist.squareform(dist.pdist(iris.ix[:,:4].as_matrix()))"
   ]
  },
  {
   "cell_type": "code",
   "execution_count": 53,
   "metadata": {
    "collapsed": false
   },
   "outputs": [
    {
     "name": "stdout",
     "output_type": "stream",
     "text": [
      "10 loops, best of 3: 73.6 ms per loop\n"
     ]
    }
   ],
   "source": [
    "%%timeit\n",
    "clusterer = HDBSCAN(10)\n",
    "clusterer.fit(distance_matrix)"
   ]
  },
  {
   "cell_type": "code",
   "execution_count": 27,
   "metadata": {
    "collapsed": true
   },
   "outputs": [],
   "source": [
    "digits = data.load_digits()\n",
    "digits_distance_matrix = dist.squareform(dist.pdist(digits.data))"
   ]
  },
  {
   "cell_type": "code",
   "execution_count": 54,
   "metadata": {
    "collapsed": false
   },
   "outputs": [
    {
     "name": "stdout",
     "output_type": "stream",
     "text": [
      "1 loops, best of 3: 1.47 s per loop\n"
     ]
    }
   ],
   "source": [
    "%%timeit\n",
    "clusterer = HDBSCAN(10)\n",
    "clusterer.fit(digits_distance_matrix)"
   ]
  },
  {
   "cell_type": "code",
   "execution_count": 55,
   "metadata": {
    "collapsed": false
   },
   "outputs": [
    {
     "name": "stdout",
     "output_type": "stream",
     "text": [
      " "
     ]
    }
   ],
   "source": [
    "%%prun\n",
    "clusterer = HDBSCAN(10)\n",
    "clusterer.fit(digits_distance_matrix)"
   ]
  },
  {
   "cell_type": "code",
   "execution_count": 30,
   "metadata": {
    "collapsed": false
   },
   "outputs": [
    {
     "name": "stdout",
     "output_type": "stream",
     "text": [
      "1 loops, best of 3: 36.7 s per loop\n"
     ]
    }
   ],
   "source": [
    "%timeit fc.single(digits_distance_matrix)"
   ]
  },
  {
   "cell_type": "code",
   "execution_count": 31,
   "metadata": {
    "collapsed": true
   },
   "outputs": [],
   "source": [
    "def mst_linkage_core(distance_matrix):\n",
    "    result = []\n",
    "    node_labels = np.arange(distance_matrix.shape[0])\n",
    "    current_node = 0\n",
    "    last_distances = np.infty * np.ones(node_labels.shape[0])\n",
    "    current_distances = np.infty * np.ones(node_labels.shape[0])\n",
    "    current_labels = node_labels\n",
    "    for i in xrange(1,node_labels.shape[0]):\n",
    "        label_filter = current_labels != current_node\n",
    "        current_labels = current_labels[label_filter]\n",
    "        comparison_distances = np.vstack((last_distances[label_filter],\n",
    "                                            distance_matrix[current_node][current_labels]))\n",
    "        current_distances = np.min(comparison_distances, axis=0)\n",
    "        last_distances = current_distances\n",
    "        \n",
    "        new_node_index = np.argmin(current_distances)\n",
    "        new_node = current_labels[new_node_index]\n",
    "        result.append([current_node, new_node, current_distances[new_node_index]])\n",
    "        current_node = new_node\n",
    "        \n",
    "    return result"
   ]
  },
  {
   "cell_type": "code",
   "execution_count": 32,
   "metadata": {
    "collapsed": false
   },
   "outputs": [
    {
     "name": "stdout",
     "output_type": "stream",
     "text": [
      "1 loops, best of 3: 345 ms per loop\n"
     ]
    }
   ],
   "source": [
    "%timeit mst_linkage_core(digits_distance_matrix)"
   ]
  },
  {
   "cell_type": "code",
   "execution_count": 43,
   "metadata": {
    "collapsed": true
   },
   "outputs": [],
   "source": [
    "class UnionFind:\n",
    "    \n",
    "    def __init__(self, N):\n",
    "        self.parent = np.array([-1] * (2*N-1))\n",
    "        self.next_label = N\n",
    "        self.size = np.array([1] * N)\n",
    "        self.size = np.concatenate([self.size, np.array([0] * (N-1))])\n",
    "        \n",
    "    def union(self, m, n):\n",
    "        self.size[self.next_label] = self.size[m] + self.size[n]\n",
    "        self.parent[m] = self.next_label\n",
    "        self.parent[n] = self.next_label\n",
    "        self.size[self.next_label] = self.size[m] + self.size[n]\n",
    "        self.next_label += 1\n",
    "        \n",
    "    def find(self, n):\n",
    "        while self.parent[n] != -1 :\n",
    "            n = self.parent[n]\n",
    "        return n\n",
    "    \n",
    "    def fast_find(self, n):\n",
    "        p = n\n",
    "        while self.parent[n] != -1 :\n",
    "            n = self.parent[n]\n",
    "        while self.parent[p] != n: # label all the way up to the root\n",
    "            (p, self.parent[p]) = (self.parent[p], n)\n",
    "        return n"
   ]
  },
  {
   "cell_type": "code",
   "execution_count": 41,
   "metadata": {
    "collapsed": true
   },
   "outputs": [],
   "source": [
    "def label(L, do_fast_find=True):\n",
    "    LL = []\n",
    "    N = len(L) + 1 # QUESTION: why isn't this len(L)??\n",
    "    U = UnionFind(N)\n",
    "    for idx, (a, b, delta) in enumerate(L):\n",
    "        if do_fast_find:\n",
    "            aa, bb = (U.fast_find(a), U.fast_find(b))\n",
    "        else:\n",
    "            aa, bb = (U.find(a), U.find(b))\n",
    "        LL.append((aa, bb, delta, U.size[aa] + U.size[bb]))      \n",
    "        U.union(aa, bb)\n",
    "    return LL"
   ]
  },
  {
   "cell_type": "code",
   "execution_count": 42,
   "metadata": {
    "collapsed": true
   },
   "outputs": [],
   "source": [
    "def single_linkage(distance_matrix):\n",
    "    hierarchy = np.array(mst_linkage_core(distance_matrix))\n",
    "    sort_order = np.argsort(hierarchy.T[2])\n",
    "    sorted_hierarchy = hierarchy[sort_order,:]\n",
    "    return label(sorted_hierarchy)"
   ]
  },
  {
   "cell_type": "code",
   "execution_count": 50,
   "metadata": {
    "collapsed": true
   },
   "outputs": [],
   "source": [
    "def distance_matrix_to_pdist(matrix):\n",
    "    result = []\n",
    "    for index, row in enumerate(distance_matrix):\n",
    "        result.append(row[index:])\n",
    "    return np.hstack(result)"
   ]
  },
  {
   "cell_type": "code",
   "execution_count": 51,
   "metadata": {
    "collapsed": false
   },
   "outputs": [
    {
     "name": "stdout",
     "output_type": "stream",
     "text": [
      "100 loops, best of 3: 2.11 ms per loop\n"
     ]
    }
   ],
   "source": [
    "%timeit distance_matrix_to_pdist(digits_distance_matrix)"
   ]
  },
  {
   "cell_type": "code",
   "execution_count": null,
   "metadata": {
    "collapsed": true
   },
   "outputs": [],
   "source": []
  },
  {
   "cell_type": "code",
   "execution_count": null,
   "metadata": {
    "collapsed": true
   },
   "outputs": [],
   "source": []
  },
  {
   "cell_type": "code",
   "execution_count": null,
   "metadata": {
    "collapsed": true
   },
   "outputs": [],
   "source": []
  },
  {
   "cell_type": "code",
   "execution_count": null,
   "metadata": {
    "collapsed": true
   },
   "outputs": [],
   "source": []
  },
  {
   "cell_type": "code",
   "execution_count": null,
   "metadata": {
    "collapsed": true
   },
   "outputs": [],
   "source": []
  },
  {
   "cell_type": "code",
   "execution_count": null,
   "metadata": {
    "collapsed": true
   },
   "outputs": [],
   "source": []
  }
 ],
 "metadata": {
  "kernelspec": {
   "display_name": "Python 2",
   "language": "python",
   "name": "python2"
  },
  "language_info": {
   "codemirror_mode": {
    "name": "ipython",
    "version": 2
   },
   "file_extension": ".py",
   "mimetype": "text/x-python",
   "name": "python",
   "nbconvert_exporter": "python",
   "pygments_lexer": "ipython2",
   "version": "2.7.9"
  }
 },
 "nbformat": 4,
 "nbformat_minor": 0
}
