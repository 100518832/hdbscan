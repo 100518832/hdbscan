{
 "cells": [
  {
   "cell_type": "markdown",
   "metadata": {},
   "source": [
    "Mutual Reachability \"Graph\"\n",
    "===============\n",
    "\n",
    "Build the mutual reachability graph from a distance matrix. We are operating with the following definitions per 'Campello, Moulavi, Sander':\n",
    "\n",
    "**Core Distance**: The core distance of an object $x_p \\in X$ with respect to $m_{\\textrm{pts}}$ is the distance from $x_p$ to its $m_{\\textrm{pts}}$-nearest neighbour.\n",
    "\n",
    "**Mutual Reachability Distance**: The mutual reachability distance between two objects $x_p$ and $x_q$ in $X$ with respect to $m_{\\textrm{pts}}$ is defined as $d_{\\textrm{mreach}} = \\max\\{d_{\\textrm{core}}(x_p), d_{\\textrm{core}}(x_q), d(x_p, x_q)\\}$."
   ]
  },
  {
   "cell_type": "code",
   "execution_count": 1,
   "metadata": {
    "collapsed": true
   },
   "outputs": [],
   "source": [
    "import numpy as np"
   ]
  },
  {
   "cell_type": "markdown",
   "metadata": {},
   "source": [
    "Let's assume we have an all pairs distance matrix to work with and generate a a new \"mutual reachability distance matrix\" from it. We'll start with the most naive implementation and work from there."
   ]
  },
  {
   "cell_type": "code",
   "execution_count": 7,
   "metadata": {
    "collapsed": true
   },
   "outputs": [],
   "source": [
    "def naive_mutual_reachability_distance_matrix(distance_matrix, min_points):\n",
    "    result = np.zeros(distance_matrix.shape)\n",
    "    core_distances = np.sort(distance_matrix, axis=0)[min_points]\n",
    "    for i in range(distance_matrix.shape[0]):\n",
    "        for j in range(distance_matrix.shape[1]):\n",
    "            result[i,j] = max(core_distances[i], core_distances[j], distance_matrix[i,j])\n",
    "            \n",
    "    return result"
   ]
  },
  {
   "cell_type": "markdown",
   "metadata": {},
   "source": [
    "We need some test data to try this out on and do profiling, so let's load in iris and get the distance matrix up."
   ]
  },
  {
   "cell_type": "code",
   "execution_count": 5,
   "metadata": {
    "collapsed": true
   },
   "outputs": [],
   "source": [
    "import pandas as pd\n",
    "import scipy.spatial.distance as dist\n",
    "\n",
    "iris = pd.read_csv(\"iris.csv\")\n",
    "distance_matrix = dist.squareform(dist.pdist(iris.ix[:,:4].as_matrix()))"
   ]
  },
  {
   "cell_type": "code",
   "execution_count": 8,
   "metadata": {
    "collapsed": false
   },
   "outputs": [
    {
     "name": "stdout",
     "output_type": "stream",
     "text": [
      "10 loops, best of 3: 86.9 ms per loop\n"
     ]
    }
   ],
   "source": [
    "%timeit naive_mutual_reachability_distance_matrix(distance_matrix, 5)"
   ]
  },
  {
   "cell_type": "code",
   "execution_count": 9,
   "metadata": {
    "collapsed": false
   },
   "outputs": [
    {
     "name": "stdout",
     "output_type": "stream",
     "text": [
      " "
     ]
    }
   ],
   "source": [
    "%prun naive_mutual_reachability_distance_matrix(distance_matrix, 5)"
   ]
  },
  {
   "cell_type": "raw",
   "metadata": {},
   "source": [
    "         22660 function calls in 0.179 seconds\n",
    "\n",
    "   Ordered by: internal time\n",
    "\n",
    "   ncalls  tottime  percall  cumtime  percall filename:lineno(function)\n",
    "        1    0.119    0.119    0.179    0.179 <ipython-input-7-ddf052f90f68>:1(naive_mutual_reachability_distance_matrix)\n",
    "    22500    0.040    0.000    0.040    0.000 {max}\n",
    "        1    0.013    0.013    0.013    0.013 {method 'sort' of 'numpy.ndarray' objects}\n",
    "      151    0.005    0.000    0.005    0.000 {range}\n",
    "        1    0.002    0.002    0.002    0.002 {numpy.core.multiarray.zeros}\n",
    "        1    0.000    0.000    0.000    0.000 {method 'copy' of 'numpy.ndarray' objects}\n",
    "        1    0.000    0.000    0.013    0.013 fromnumeric.py:694(sort)\n",
    "        1    0.000    0.000    0.179    0.179 <string>:1(<module>)\n",
    "        1    0.000    0.000    0.000    0.000 numeric.py:464(asanyarray)\n",
    "        1    0.000    0.000    0.000    0.000 {numpy.core.multiarray.array}\n",
    "        1    0.000    0.000    0.000    0.000 {method 'disable' of '_lsprof.Profiler' objects}"
   ]
  },
  {
   "cell_type": "markdown",
   "metadata": {},
   "source": [
    "Clearly we are spending our time in that max operation, the unnecessary range , and sorting the array to get the core distances. We can probably fix some of this. Let's go nuts with numpy! We can create a matrix that is the repeated vector of core distances. If we now depth stack a tensor of that matrix, the transpose of that matrix, and the distance matrix then the max across axis 2 is going to be the max of `core_distance[i]`, `core_distance[j]` and `distance_matrix[i,j]` at the `i,j` position ... or exactly what we want, but in a completely vectorized fashion. This is kind of awesome, and not entirely obvious, but hey, here's some documentation so have fun."
   ]
  },
  {
   "cell_type": "code",
   "execution_count": 83,
   "metadata": {
    "collapsed": true
   },
   "outputs": [],
   "source": [
    "def mutual_reachability_distance_matrix(distance_matrix, min_points):\n",
    "    core_distances = np.sort(distance_matrix, axis=0)[min_points]\n",
    "    core_distance_matrix = core_distances.repeat(150).reshape((150,150))\n",
    "    result = np.dstack((core_distance_matrix, core_distance_matrix.T, distance_matrix)).max(axis=2)\n",
    "    return result"
   ]
  },
  {
   "cell_type": "code",
   "execution_count": 84,
   "metadata": {
    "collapsed": false
   },
   "outputs": [
    {
     "name": "stdout",
     "output_type": "stream",
     "text": [
      "100 loops, best of 3: 8.16 ms per loop\n"
     ]
    }
   ],
   "source": [
    "%timeit mutual_reachability_distance_matrix(distance_matrix, 5)"
   ]
  },
  {
   "cell_type": "code",
   "execution_count": 30,
   "metadata": {
    "collapsed": false
   },
   "outputs": [
    {
     "data": {
      "text/plain": [
       "True"
      ]
     },
     "execution_count": 30,
     "metadata": {},
     "output_type": "execute_result"
    }
   ],
   "source": [
    "np.all(mutual_reachability_distance_matrix(distance_matrix, 5) == \n",
    "       naive_mutual_reachability_distance_matrix(distance_matrix, 5))"
   ]
  },
  {
   "cell_type": "code",
   "execution_count": 31,
   "metadata": {
    "collapsed": false
   },
   "outputs": [
    {
     "name": "stdout",
     "output_type": "stream",
     "text": [
      " "
     ]
    }
   ],
   "source": [
    "%prun mutual_reachability_distance_matrix(distance_matrix, 5)"
   ]
  },
  {
   "cell_type": "raw",
   "metadata": {},
   "source": [
    "         40 function calls in 0.018 seconds\n",
    "\n",
    "   Ordered by: internal time\n",
    "\n",
    "   ncalls  tottime  percall  cumtime  percall filename:lineno(function)\n",
    "        1    0.009    0.009    0.009    0.009 {method 'sort' of 'numpy.ndarray' objects}\n",
    "        1    0.005    0.005    0.005    0.005 {method 'reduce' of 'numpy.ufunc' objects}\n",
    "        1    0.002    0.002    0.002    0.002 {numpy.core.multiarray.concatenate}\n",
    "        1    0.001    0.001    0.001    0.001 {method 'repeat' of 'numpy.ndarray' objects}\n",
    "        1    0.000    0.000    0.000    0.000 {method 'copy' of 'numpy.ndarray' objects}\n",
    "        1    0.000    0.000    0.018    0.018 <ipython-input-27-1be301763a91>:1(mutual_reachability_distance_matrix)\n",
    "        1    0.000    0.000    0.000    0.000 {numpy.core.multiarray.zeros}\n",
    "        1    0.000    0.000    0.018    0.018 <string>:1(<module>)\n",
    "        3    0.000    0.000    0.000    0.000 shape_base.py:112(atleast_3d)\n",
    "        1    0.000    0.000    0.009    0.009 fromnumeric.py:694(sort)\n",
    "        1    0.000    0.000    0.002    0.002 shape_base.py:319(dstack)\n",
    "        4    0.000    0.000    0.000    0.000 {numpy.core.multiarray.array}\n",
    "        4    0.000    0.000    0.000    0.000 numeric.py:464(asanyarray)\n",
    "        1    0.000    0.000    0.005    0.005 {method 'max' of 'numpy.ndarray' objects}\n",
    "        1    0.000    0.000    0.005    0.005 _methods.py:25(_amax)\n",
    "        1    0.000    0.000    0.000    0.000 {method 'reshape' of 'numpy.ndarray' objects}\n",
    "       12    0.000    0.000    0.000    0.000 {len}\n",
    "        3    0.000    0.000    0.000    0.000 {method 'append' of 'list' objects}\n",
    "        1    0.000    0.000    0.000    0.000 {method 'disable' of '_lsprof.Profiler' objects}"
   ]
  },
  {
   "cell_type": "markdown",
   "metadata": {},
   "source": [
    "Well that worked remarkably well. The expense is still in the sort but otherwise we have drastically improved everything else. Of course the reality is that the sort is merely convenient, not necessary, so let's see if we can do a linear scan in find the `min_points`th entry and get $O(n)$ instead of $O(n\\log n)$. Oh, wait, numpy already thought of that (yes, really) and has the partition function which sorts the k smallest elements of an array and leaves the remainder unsorted (and does so with a linear scan) so runs in linear time. Let's just use that."
   ]
  },
  {
   "cell_type": "code",
   "execution_count": 85,
   "metadata": {
    "collapsed": true
   },
   "outputs": [],
   "source": [
    "def mutual_reachability_distance_matrix(distance_matrix, min_points):\n",
    "    core_distances = np.partition(distance_matrix, min_points, axis=0)[min_points]\n",
    "    core_distance_matrix = core_distances.repeat(150).reshape((150,150))\n",
    "    result = np.dstack((core_distance_matrix, core_distance_matrix.T, distance_matrix)).max(axis=2)\n",
    "    return result"
   ]
  },
  {
   "cell_type": "code",
   "execution_count": 86,
   "metadata": {
    "collapsed": false
   },
   "outputs": [
    {
     "name": "stdout",
     "output_type": "stream",
     "text": [
      "100 loops, best of 3: 2.66 ms per loop\n"
     ]
    }
   ],
   "source": [
    "%timeit core_distances = np.sort(distance_matrix, axis=0)[5]"
   ]
  },
  {
   "cell_type": "code",
   "execution_count": 82,
   "metadata": {
    "collapsed": false
   },
   "outputs": [
    {
     "name": "stdout",
     "output_type": "stream",
     "text": [
      " "
     ]
    }
   ],
   "source": [
    "%prun core_distances = np.sort(distance_matrix, axis=0)[5]"
   ]
  },
  {
   "cell_type": "raw",
   "metadata": {},
   "source": [
    "         7 function calls in 0.004 seconds\n",
    "\n",
    "   Ordered by: internal time\n",
    "\n",
    "   ncalls  tottime  percall  cumtime  percall filename:lineno(function)\n",
    "        1    0.003    0.003    0.003    0.003 {method 'sort' of 'numpy.ndarray' objects}\n",
    "        1    0.000    0.000    0.000    0.000 {method 'copy' of 'numpy.ndarray' objects}\n",
    "        1    0.000    0.000    0.004    0.004 fromnumeric.py:694(sort)\n",
    "        1    0.000    0.000    0.000    0.000 {numpy.core.multiarray.array}\n",
    "        1    0.000    0.000    0.004    0.004 <string>:1(<module>)\n",
    "        1    0.000    0.000    0.000    0.000 numeric.py:464(asanyarray)\n",
    "        1    0.000    0.000    0.000    0.000 {method 'disable' of '_lsprof.Profiler' objects}"
   ]
  },
  {
   "cell_type": "markdown",
   "metadata": {},
   "source": [
    "And this is about as good as we can probably conceivably do given that we are solidly in efficient vectorized numpy for pretty much all our operations."
   ]
  },
  {
   "cell_type": "code",
   "execution_count": null,
   "metadata": {
    "collapsed": true
   },
   "outputs": [],
   "source": []
  }
 ],
 "metadata": {
  "kernelspec": {
   "display_name": "Python 2",
   "language": "python",
   "name": "python2"
  },
  "language_info": {
   "codemirror_mode": {
    "name": "ipython",
    "version": 2
   },
   "file_extension": ".py",
   "mimetype": "text/x-python",
   "name": "python",
   "nbconvert_exporter": "python",
   "pygments_lexer": "ipython2",
   "version": "2.7.9"
  }
 },
 "nbformat": 4,
 "nbformat_minor": 0
}
