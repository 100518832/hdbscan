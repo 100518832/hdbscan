{
 "cells": [
  {
   "cell_type": "markdown",
   "metadata": {},
   "source": [
    "Condensing Cluster Trees\n",
    "=============\n",
    "\n",
    "The goal is to condense a cluster tree down to a simpler tree based on `min_cluster_size`. Essentially we wish to view a node of the tree to continue to exist until it is split into clusters of size at least `min_cluster_size`. When a split occurs that has fewer than `min_cluster_size` points in it we view this as the cluster \"losing\" points rather than splitting into a new cluster. We want to record when it lost the points, but we wish to retain the cluster identity.\n",
    "\n",
    "To start we gegin with a new node class that supports multiple children rather than just \"left\" and \"right\". We also need to have an id, and a dist at which the node split off from the parent."
   ]
  },
  {
   "cell_type": "code",
   "execution_count": 38,
   "metadata": {
    "collapsed": false
   },
   "outputs": [],
   "source": [
    "class CondensedTreeNode:    \n",
    "    def __init__(self, id, dist, children, size, is_leaf):\n",
    "        self.id = id\n",
    "        self.dist = dist\n",
    "        self.children = children\n",
    "        self.child_size = size\n",
    "        self.is_leaf = is_leaf\n",
    "    \n",
    "    def add_child(self, child):\n",
    "        self.children.append(child)\n",
    "\n",
    "    def __repr__(self):\n",
    "        return '<Node object at %s>' % (\n",
    "            hex(id(self))\n",
    "            )\n",
    "        \n",
    "    def __str__(self):\n",
    "        return \"ID: %d, Lambda %d, Number of Children %d, \" \\\n",
    "               \"Number of children %d, Leaf node: %s\" % (self.id, self.dist, len(self.children), \n",
    "                                                         self.child_size, self.is_leaf)\n",
    "    "
   ]
  },
  {
   "cell_type": "markdown",
   "metadata": {},
   "source": [
    "Next we'll need a utility function to extract out all the leaf nodes under a given cluster node. This is essential since we want to make a new \"leaf-cluster\" for each node that is smaller than `min_cluster_size` and we'll want to gather up allm th actual leaves/data-points and place them flat within that node. But hey, scipy is awsome and comes with a pre-order function that takes a function (and defaults to `lambda x: x.id`) so we can just pass that the identity and get all the leaves."
   ]
  },
  {
   "cell_type": "code",
   "execution_count": 73,
   "metadata": {
    "collapsed": true
   },
   "outputs": [],
   "source": [
    "#This function consumes a tree and returns the set of leaves\n",
    "def get_leaves(tree):\n",
    "    \"\"\"Consume a tree object and return a list of leaf nodes\"\"\"\n",
    "    return tree.pre_order(lambda x: x)"
   ]
  },
  {
   "cell_type": "markdown",
   "metadata": {},
   "source": [
    "Now we can focus on the condense operation. Since we are working with a tree this is most easily implemented as a recursive function walking down the tree. At each stage we check if the left or right branch are under the `min_cluster_size` and then either recursively call `condense_tree` or add all the leaves of the \"left-cluster\" accordingly. We'll label leaf nodes with \"POINT\" to denote that it is indexing a data point and not a cluster id."
   ]
  },
  {
   "cell_type": "code",
   "execution_count": 89,
   "metadata": {
    "collapsed": false
   },
   "outputs": [],
   "source": [
    "def condense_tree(tree, min_cluster_size=10, next_id=0):\n",
    "        \n",
    "    #Verbose assert\n",
    "    if tree.count == 0:\n",
    "        print(\"Invalid input: Null tree\")\n",
    "        result = Node(-1, -1, [], -1, False)\n",
    "        return result\n",
    "    elif tree.count == 1:\n",
    "        #Passed in a single node. only that node\n",
    "        result = Node(-1, tree.dist, [], 1, True)\n",
    "        return result\n",
    "        \n",
    "    result = CondensedTreeNode(next_id, tree.dist, [], tree.left.count + tree.right.count, 0)\n",
    "        \n",
    "    #If the left node is too small, add a leaf\n",
    "    if tree.left.count <= min_cluster_size:\n",
    "        leaves = get_leaves(tree.left)\n",
    "        for leaf in leaves:\n",
    "            result.add_child(CondensedTreeNode(\"POINT %i\" % leaf.id, tree.left.dist, [], 1, True))\n",
    "    else:\n",
    "        child, next_id = condense_tree(tree.left, min_cluster_size, next_id + 1)\n",
    "        result.add_child(child)\n",
    "            \n",
    "    #If the right node is too small, add a leaf\n",
    "    if tree.right.count <= min_cluster_size:\n",
    "        leaves = get_leaves(tree.right)\n",
    "        for leaf in leaves:\n",
    "            result.add_child(CondensedTreeNode(\"POINT %i\" % leaf.id, tree.right.dist, [], 1, True))\n",
    "    else:\n",
    "        child, next_id = condense_tree(tree.right, min_cluster_size, next_id + 1)\n",
    "        result.add_child(child)\n",
    "        \n",
    "    return result, next_id\n",
    "    "
   ]
  },
  {
   "cell_type": "markdown",
   "metadata": {},
   "source": [
    "Now we can load up some test data (iris will do for now) and try this out."
   ]
  },
  {
   "cell_type": "code",
   "execution_count": 20,
   "metadata": {
    "collapsed": true
   },
   "outputs": [],
   "source": [
    "import pandas as pd\n",
    "import numpy as np\n",
    "import scipy.spatial.distance as dist\n",
    "\n",
    "iris = pd.read_csv(\"iris.csv\")\n",
    "distance_matrix = dist.squareform(dist.pdist(iris.ix[:,:4].as_matrix()))"
   ]
  },
  {
   "cell_type": "code",
   "execution_count": 21,
   "metadata": {
    "collapsed": true
   },
   "outputs": [],
   "source": [
    "def mutual_reachability_distance_matrix(distance_matrix, min_points):\n",
    "    dim = distance_matrix.shape[0]\n",
    "    core_distances = np.partition(distance_matrix, min_points, axis=0)[min_points]\n",
    "    core_distance_matrix = core_distances.repeat(dim).reshape((dim,dim))\n",
    "    result = np.dstack((core_distance_matrix, core_distance_matrix.T, distance_matrix)).max(axis=2)\n",
    "    return result"
   ]
  },
  {
   "cell_type": "code",
   "execution_count": 22,
   "metadata": {
    "collapsed": false
   },
   "outputs": [],
   "source": [
    "mr_dist_matrix = mutual_reachability_distance_matrix(distance_matrix, 10)"
   ]
  },
  {
   "cell_type": "code",
   "execution_count": 23,
   "metadata": {
    "collapsed": false
   },
   "outputs": [],
   "source": [
    "import fastcluster\n",
    "import scipy.cluster.hierarchy as hclust"
   ]
  },
  {
   "cell_type": "code",
   "execution_count": 24,
   "metadata": {
    "collapsed": true
   },
   "outputs": [],
   "source": [
    "ctree = fastcluster.single(mr_dist_matrix)"
   ]
  },
  {
   "cell_type": "code",
   "execution_count": 25,
   "metadata": {
    "collapsed": true
   },
   "outputs": [],
   "source": [
    "hctree = hclust.to_tree(ctree)"
   ]
  },
  {
   "cell_type": "code",
   "execution_count": 90,
   "metadata": {
    "collapsed": false
   },
   "outputs": [],
   "source": [
    "condensed, final_id = condense_tree(hctree, 10, 0)"
   ]
  },
  {
   "cell_type": "markdown",
   "metadata": {},
   "source": [
    "Now we need to flatten the tree. The easiest way is to flatten a node into a list of parent children relations, and thn have a flatten tree function that recursively calls `flatten_node` down the whole tree."
   ]
  },
  {
   "cell_type": "code",
   "execution_count": 91,
   "metadata": {
    "collapsed": false
   },
   "outputs": [],
   "source": [
    "def flatten_node(tree_node):\n",
    "    return [(tree_node.id, x.id, x.dist, x.child_size) for x in tree_node.children]"
   ]
  },
  {
   "cell_type": "code",
   "execution_count": 92,
   "metadata": {
    "collapsed": false
   },
   "outputs": [],
   "source": [
    "def flatten_tree(tree):\n",
    "    if tree.is_leaf:\n",
    "        return []\n",
    "    result = flatten_node(tree)\n",
    "    for subtree in tree.children:\n",
    "        result.extend(flatten_tree(subtree))\n",
    "    return result"
   ]
  },
  {
   "cell_type": "code",
   "execution_count": 93,
   "metadata": {
    "collapsed": false,
    "scrolled": true
   },
   "outputs": [
    {
     "data": {
      "text/plain": [
       "[(0, 1, 2.9913846843382017, 50),\n",
       " (0, 19, 5.0931923501356025, 100),\n",
       " (1, 'POINT 41', 0, 1),\n",
       " (1, 2, 2.6725405663175401, 49),\n",
       " (2, 'POINT 13', 2.2346057679875022, 1),\n",
       " (2, 'POINT 22', 2.2346057679875022, 1),\n",
       " (2, 3, 2.257239278760959, 47),\n",
       " (3, 'POINT 15', 0, 1),\n",
       " (3, 4, 1.8764282443617202, 46),\n",
       " (4, 'POINT 8', 0.92345065601925269, 1),\n",
       " (4, 'POINT 38', 0.92345065601925269, 1),\n",
       " (4, 'POINT 42', 0.92345065601925269, 1),\n",
       " (4, 5, 1.584309084792646, 43),\n",
       " (5, 'POINT 5', 1.0884898446768789, 1),\n",
       " (5, 'POINT 18', 1.0884898446768789, 1),\n",
       " (5, 6, 1.4481717299591841, 41),\n",
       " (6, 'POINT 44', 0, 1),\n",
       " (6, 7, 1.3709128075488768, 40),\n",
       " (7, 'POINT 14', 1.1440611433912689, 1),\n",
       " (7, 'POINT 33', 1.1440611433912689, 1),\n",
       " (7, 8, 1.3370718298018256, 38),\n",
       " (8, 9, 1.2246852859847495, 32),\n",
       " (8, 'POINT 23', 1.2584933719922482, 1),\n",
       " (8, 'POINT 24', 1.2584933719922482, 1),\n",
       " (8, 'POINT 20', 1.2584933719922482, 1),\n",
       " (8, 'POINT 31', 1.2584933719922482, 1),\n",
       " (8, 'POINT 26', 1.2584933719922482, 1),\n",
       " (8, 'POINT 43', 1.2584933719922482, 1),\n",
       " (9, 'POINT 16', 0.76069779335362075, 1),\n",
       " (9, 'POINT 32', 0.76069779335362075, 1),\n",
       " (9, 10, 1.166842817904191, 30),\n",
       " (10, 'POINT 36', 0, 1),\n",
       " (10, 11, 1.0373698111110854, 29),\n",
       " (11, 12, 0.84727852045688545, 15),\n",
       " (11, 15, 0.96470510930842557, 14),\n",
       " (12, 'POINT 49', 0, 1),\n",
       " (12, 13, 0.77498529774551617, 14),\n",
       " (13, 'POINT 11', 0, 1),\n",
       " (13, 14, 0.73600113613606488, 13),\n",
       " (14, 'POINT 0', 0.55370909742729324, 1),\n",
       " (14, 'POINT 17', 0.55370909742729324, 1),\n",
       " (14, 'POINT 28', 0.55370909742729324, 1),\n",
       " (14, 'POINT 4', 0.55370909742729324, 1),\n",
       " (14, 'POINT 40', 0.55370909742729324, 1),\n",
       " (14, 'POINT 7', 0.71577889985543686, 1),\n",
       " (14, 'POINT 39', 0.71577889985543686, 1),\n",
       " (14, 'POINT 27', 0.71577889985543686, 1),\n",
       " (14, 'POINT 19', 0.71577889985543686, 1),\n",
       " (14, 'POINT 21', 0.71577889985543686, 1),\n",
       " (14, 'POINT 10', 0.71577889985543686, 1),\n",
       " (14, 'POINT 46', 0.71577889985543686, 1),\n",
       " (14, 'POINT 48', 0.71577889985543686, 1),\n",
       " (15, 'POINT 25', 0, 1),\n",
       " (15, 16, 0.93597405848569692, 13),\n",
       " (16, 'POINT 35', 0, 1),\n",
       " (16, 17, 0.72734858840185312, 12),\n",
       " (17, 'POINT 6', 0, 1),\n",
       " (17, 18, 0.67004286748737374, 11),\n",
       " (18, 'POINT 2', 0.60030986606990122, 1),\n",
       " (18, 'POINT 47', 0.60030986606990122, 1),\n",
       " (18, 'POINT 29', 0.64569200035286911, 1),\n",
       " (18, 'POINT 30', 0.64569200035286911, 1),\n",
       " (18, 'POINT 12', 0.64569200035286911, 1),\n",
       " (18, 'POINT 37', 0.64569200035286911, 1),\n",
       " (18, 'POINT 9', 0.64569200035286911, 1),\n",
       " (18, 'POINT 34', 0.64569200035286911, 1),\n",
       " (18, 'POINT 3', 0.64569200035286911, 1),\n",
       " (18, 'POINT 1', 0.64569200035286911, 1),\n",
       " (18, 'POINT 45', 0.64569200035286911, 1),\n",
       " (19, 'POINT 60', 2.2653630771538213, 1),\n",
       " (19, 'POINT 98', 2.2653630771538213, 1),\n",
       " (19, 'POINT 57', 2.2653630771538213, 1),\n",
       " (19, 'POINT 93', 2.2653630771538213, 1),\n",
       " (19, 20, 4.367415033321306, 96),\n",
       " (20, 'POINT 106', 0, 1),\n",
       " (20, 21, 3.0425450454613232, 95),\n",
       " (21, 'POINT 118', 2.1470005669024053, 1),\n",
       " (21, 'POINT 105', 2.1470005669024053, 1),\n",
       " (21, 'POINT 122', 2.1470005669024053, 1),\n",
       " (21, 'POINT 117', 2.1470005669024053, 1),\n",
       " (21, 'POINT 131', 2.1470005669024053, 1),\n",
       " (21, 22, 2.5726031639465896, 90),\n",
       " (22, 23, 2.3608538999519197, 88),\n",
       " (22, 'POINT 114', 2.5589003593118442, 1),\n",
       " (22, 'POINT 134', 2.5589003593118442, 1),\n",
       " (23, 'POINT 135', 1.8845226084097384, 1),\n",
       " (23, 'POINT 109', 1.8845226084097384, 1),\n",
       " (23, 'POINT 107', 1.8845226084097384, 1),\n",
       " (23, 'POINT 130', 1.8845226084097384, 1),\n",
       " (23, 24, 2.2110223488015897, 84),\n",
       " (24, 'POINT 68', 1.3131365239361392, 1),\n",
       " (24, 'POINT 87', 1.3131365239361392, 1),\n",
       " (24, 25, 2.0175416642296438, 82),\n",
       " (25, 26, 1.8275465885180813, 25),\n",
       " (25, 31, 2.0124436561393244, 57),\n",
       " (26, 'POINT 64', 0, 1),\n",
       " (26, 27, 1.7416070677074125, 24),\n",
       " (27, 'POINT 74', 1.700996568850788, 1),\n",
       " (27, 'POINT 97', 1.700996568850788, 1),\n",
       " (27, 'POINT 61', 1.700996568850788, 1),\n",
       " (27, 'POINT 84', 1.700996568850788, 1),\n",
       " (27, 'POINT 55', 1.700996568850788, 1),\n",
       " (27, 'POINT 66', 1.700996568850788, 1),\n",
       " (27, 28, 1.7168015690189522, 18),\n",
       " (28, 'POINT 62', 0, 1),\n",
       " (28, 29, 1.5698511680539229, 17),\n",
       " (29, 'POINT 79', 0, 1),\n",
       " (29, 30, 1.446275215026668, 16),\n",
       " (30, 'POINT 90', 1.3276130829324539, 1),\n",
       " (30, 'POINT 71', 1.3276130829324539, 1),\n",
       " (30, 'POINT 88', 1.3276130829324539, 1),\n",
       " (30, 'POINT 95', 1.3276130829324539, 1),\n",
       " (30, 'POINT 96', 1.3276130829324539, 1),\n",
       " (30, 'POINT 94', 1.3276130829324539, 1),\n",
       " (30, 'POINT 99', 1.3276130829324539, 1),\n",
       " (30, 'POINT 82', 1.3276130829324539, 1),\n",
       " (30, 'POINT 67', 1.3276130829324539, 1),\n",
       " (30, 'POINT 92', 1.3276130829324539, 1),\n",
       " (30, 'POINT 81', 1.4267856122292992, 1),\n",
       " (30, 'POINT 59', 1.4267856122292992, 1),\n",
       " (30, 'POINT 80', 1.4267856122292992, 1),\n",
       " (30, 'POINT 69', 1.4267856122292992, 1),\n",
       " (30, 'POINT 53', 1.4267856122292992, 1),\n",
       " (30, 'POINT 89', 1.4267856122292992, 1),\n",
       " (31, 'POINT 129', 0, 1),\n",
       " (31, 32, 1.9137744632200515, 56),\n",
       " (32, 'POINT 108', 0, 1),\n",
       " (32, 33, 1.9029785975887783, 55),\n",
       " (33, 'POINT 100', 0, 1),\n",
       " (33, 34, 1.862250799956203, 54),\n",
       " (34, 'POINT 50', 0, 1),\n",
       " (34, 35, 1.8544030994458138, 53),\n",
       " (35, 36, 1.7951127952890338, 25),\n",
       " (35, 40, 1.8396472901451806, 28),\n",
       " (36, 'POINT 136', 0, 1),\n",
       " (36, 37, 1.6869028411902942, 24),\n",
       " (37, 38, 1.6411541972665451, 22),\n",
       " (37, 'POINT 52', 1.6695523812459809, 1),\n",
       " (37, 'POINT 77', 1.6695523812459809, 1),\n",
       " (38, 'POINT 104', 1.5352028533068784, 1),\n",
       " (38, 'POINT 124', 1.5352028533068784, 1),\n",
       " (38, 'POINT 140', 1.5352028533068784, 1),\n",
       " (38, 'POINT 120', 1.5352028533068784, 1),\n",
       " (38, 'POINT 144', 1.5352028533068784, 1),\n",
       " (38, 'POINT 125', 1.5352028533068784, 1),\n",
       " (38, 'POINT 102', 1.5352028533068784, 1),\n",
       " (38, 'POINT 143', 1.5352028533068784, 1),\n",
       " (38, 39, 1.6000376019654117, 14),\n",
       " (39, 'POINT 111', 1.5496252784796345, 1),\n",
       " (39, 'POINT 110', 1.5496252784796345, 1),\n",
       " (39, 'POINT 147', 1.5496252784796345, 1),\n",
       " (39, 'POINT 103', 1.5496252784796345, 1),\n",
       " (39, 'POINT 116', 1.5496252784796345, 1),\n",
       " (39, 'POINT 137', 1.5496252784796345, 1),\n",
       " (39, 'POINT 148', 1.5496252784796345, 1),\n",
       " (39, 'POINT 141', 1.5496252784796345, 1),\n",
       " (39, 'POINT 115', 1.5496252784796345, 1),\n",
       " (39, 'POINT 145', 1.5496252784796345, 1),\n",
       " (39, 'POINT 128', 1.5622522549000339, 1),\n",
       " (39, 'POINT 132', 1.5622522549000339, 1),\n",
       " (39, 'POINT 112', 1.5622522549000339, 1),\n",
       " (39, 'POINT 139', 1.5622522549000339, 1),\n",
       " (40, 'POINT 85', 0, 1),\n",
       " (40, 41, 1.7943928276181131, 27),\n",
       " (41, 'POINT 76', 1.3376204684458779, 1),\n",
       " (41, 'POINT 86', 1.3376204684458779, 1),\n",
       " (41, 42, 1.7430600573777955, 25),\n",
       " (42, 'POINT 78', 1.0382571676459647, 1),\n",
       " (42, 'POINT 73', 1.0382571676459647, 1),\n",
       " (42, 'POINT 63', 1.0382571676459647, 1),\n",
       " (42, 'POINT 91', 1.0382571676459647, 1),\n",
       " (42, 43, 1.7317947096264048, 21),\n",
       " (43, 'POINT 56', 1.4627468370737089, 1),\n",
       " (43, 'POINT 54', 1.4627468370737089, 1),\n",
       " (43, 'POINT 58', 1.4627468370737089, 1),\n",
       " (43, 'POINT 51', 1.4627468370737089, 1),\n",
       " (43, 'POINT 65', 1.4627468370737089, 1),\n",
       " (43, 'POINT 75', 1.4627468370737089, 1),\n",
       " (43, 44, 1.6311335652451318, 15),\n",
       " (44, 'POINT 119', 0, 1),\n",
       " (44, 45, 1.4524031891643314, 14),\n",
       " (45, 'POINT 146', 0, 1),\n",
       " (45, 46, 1.4265921267278707, 13),\n",
       " (46, 'POINT 121', 0, 1),\n",
       " (46, 47, 1.4150334701112506, 12),\n",
       " (47, 'POINT 72', 0, 1),\n",
       " (47, 48, 1.3706855893483565, 11),\n",
       " (48, 'POINT 113', 0, 1),\n",
       " (48, 'POINT 101', 1.1900415249703307, 1),\n",
       " (48, 'POINT 142', 1.1900415249703307, 1),\n",
       " (48, 'POINT 83', 1.1900415249703307, 1),\n",
       " (48, 'POINT 149', 1.1900415249703307, 1),\n",
       " (48, 'POINT 123', 1.1900415249703307, 1),\n",
       " (48, 'POINT 133', 1.1900415249703307, 1),\n",
       " (48, 'POINT 126', 1.1900415249703307, 1),\n",
       " (48, 'POINT 127', 1.1900415249703307, 1),\n",
       " (48, 'POINT 70', 1.1900415249703307, 1),\n",
       " (48, 'POINT 138', 1.1900415249703307, 1)]"
      ]
     },
     "execution_count": 93,
     "metadata": {},
     "output_type": "execute_result"
    }
   ],
   "source": [
    "flatten_tree(condensed)"
   ]
  },
  {
   "cell_type": "markdown",
   "metadata": {},
   "source": [
    "Well that looks not entirely unreasonable. Let's have a quick check that we actually have all the POINT data (one for each original data point) with no duplication."
   ]
  },
  {
   "cell_type": "code",
   "execution_count": 94,
   "metadata": {
    "collapsed": false
   },
   "outputs": [],
   "source": [
    "point_ids = [int(x[1].split()[1]) for x in flatten_tree(condensed) if isinstance(x[1], str)]"
   ]
  },
  {
   "cell_type": "code",
   "execution_count": 95,
   "metadata": {
    "collapsed": false
   },
   "outputs": [
    {
     "data": {
      "text/plain": [
       "(150, 150)"
      ]
     },
     "execution_count": 95,
     "metadata": {},
     "output_type": "execute_result"
    }
   ],
   "source": [
    "len(point_ids), len(set(point_ids))"
   ]
  },
  {
   "cell_type": "markdown",
   "metadata": {
    "collapsed": true
   },
   "source": [
    "Success!"
   ]
  }
 ],
 "metadata": {
  "kernelspec": {
   "display_name": "Python 2",
   "language": "python",
   "name": "python2"
  },
  "language_info": {
   "codemirror_mode": {
    "name": "ipython",
    "version": 2
   },
   "file_extension": ".py",
   "mimetype": "text/x-python",
   "name": "python",
   "nbconvert_exporter": "python",
   "pygments_lexer": "ipython2",
   "version": "2.7.9"
  }
 },
 "nbformat": 4,
 "nbformat_minor": 0
}
