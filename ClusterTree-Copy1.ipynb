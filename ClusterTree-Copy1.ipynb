{
 "cells": [
  {
   "cell_type": "markdown",
   "metadata": {},
   "source": [
    "Condensing Cluster Trees\n",
    "=============\n",
    "\n",
    "The goal is to condense a cluster tree down to a simpler tree based on `min_cluster_size`. Essentially we wish to view a node of the tree to continue to exist until it is split into clusters of size at least `min_cluster_size`. When a split occurs that has fewer than `min_cluster_size` points in it we view this as the cluster \"losing\" points rather than splitting into a new cluster. We want to record when it lost the points, but we wish to retain the cluster identity.\n",
    "\n",
    "To start we gegin with a new node class that supports multiple children rather than just \"left\" and \"right\". We also need to have an id, and a dist at which the node split off from the parent."
   ]
  },
  {
   "cell_type": "code",
   "execution_count": 38,
   "metadata": {
    "collapsed": false
   },
   "outputs": [],
   "source": [
    "class CondensedTreeNode:    \n",
    "    def __init__(self, id, dist, children, size, is_leaf):\n",
    "        self.id = id\n",
    "        self.dist = dist\n",
    "        self.children = children\n",
    "        self.child_size = size\n",
    "        self.is_leaf = is_leaf\n",
    "    \n",
    "    def add_child(self, child):\n",
    "        self.children.append(child)\n",
    "\n",
    "    def __repr__(self):\n",
    "        return '<Node object at %s>' % (\n",
    "            hex(id(self))\n",
    "            )\n",
    "        \n",
    "    def __str__(self):\n",
    "        return \"ID: %d, Lambda %d, Number of Children %d, \" \\\n",
    "               \"Number of children %d, Leaf node: %s\" % (self.id, self.dist, len(self.children), \n",
    "                                                         self.child_size, self.is_leaf)\n",
    "    "
   ]
  },
  {
   "cell_type": "markdown",
   "metadata": {},
   "source": [
    "Next we'll need a utility function to extract out all the leaf nodes under a given cluster node. This is essential since we want to make a new \"leaf-cluster\" for each node that is smaller than `min_cluster_size` and we'll want to gather up allm th actual leaves/data-points and place them flat within that node. But hey, scipy is awsome and comes with a pre-order function that takes a function (and defaults to `lambda x: x.id`) so we can just pass that the identity and get all the leaves."
   ]
  },
  {
   "cell_type": "code",
   "execution_count": 73,
   "metadata": {
    "collapsed": true
   },
   "outputs": [],
   "source": [
    "#This function consumes a tree and returns the set of leaves\n",
    "def get_leaves(tree):\n",
    "    \"\"\"Consume a tree object and return a list of leaf nodes\"\"\"\n",
    "    return tree.pre_order(lambda x: x)"
   ]
  },
  {
   "cell_type": "markdown",
   "metadata": {},
   "source": [
    "Now we can focus on the condense operation. Since we are working with a tree this is most easily implemented as a recursive function walking down the tree. At each stage we check if the left or right branch are under the `min_cluster_size` and then either recursively call `condense_tree` or add all the leaves of the \"left-cluster\" accordingly. We'll label leaf nodes with \"POINT\" to denote that it is indexing a data point and not a cluster id."
   ]
  },
  {
   "cell_type": "code",
   "execution_count": 116,
   "metadata": {
    "collapsed": false
   },
   "outputs": [],
   "source": [
    "def condense_tree(tree, min_cluster_size=10, next_id=0):\n",
    "        \n",
    "    #Verbose assert\n",
    "    if tree.count == 0:\n",
    "        print(\"Invalid input: Null tree\")\n",
    "        result = Node(-1, -1, [], -1, False)\n",
    "        return result\n",
    "    elif tree.count == 1:\n",
    "        #Passed in a single node. only that node\n",
    "        result = Node(-1, tree.dist, [], 1, True)\n",
    "        return result\n",
    "        \n",
    "    result = CondensedTreeNode(next_id, tree.dist, [], tree.left.count + tree.right.count, 0)\n",
    "        \n",
    "    #If the left node is too small, add a leaf\n",
    "    if tree.left.count <= min_cluster_size:\n",
    "        leaves = get_leaves(tree.left)\n",
    "        for leaf in leaves:\n",
    "            result.add_child(CondensedTreeNode(\"POINT %i\" % leaf.id, tree.left.dist, [], 1, True))\n",
    "    elif tree.right.count <= min_cluster_size:\n",
    "        child, next_id = condense_tree(tree.left, min_cluster_size, next_id)\n",
    "        result.add_child(child)\n",
    "    else:\n",
    "        child, next_id = condense_tree(tree.left, min_cluster_size, next_id + 1)\n",
    "        result.add_child(child)\n",
    "            \n",
    "    #If the right node is too small, add a leaf\n",
    "    if tree.right.count <= min_cluster_size:\n",
    "        leaves = get_leaves(tree.right)\n",
    "        for leaf in leaves:\n",
    "            result.add_child(CondensedTreeNode(\"POINT %i\" % leaf.id, tree.right.dist, [], 1, True))\n",
    "    elif tree.left.count <= min_cluster_size:\n",
    "        child, next_id = condense_tree(tree.right, min_cluster_size, next_id)\n",
    "        result.add_child(child)        \n",
    "    else:\n",
    "        child, next_id = condense_tree(tree.right, min_cluster_size, next_id + 1)\n",
    "        result.add_child(child)\n",
    "        \n",
    "    return result, next_id\n",
    "    "
   ]
  },
  {
   "cell_type": "markdown",
   "metadata": {},
   "source": [
    "Now we can load up some test data (iris will do for now) and try this out."
   ]
  },
  {
   "cell_type": "code",
   "execution_count": 20,
   "metadata": {
    "collapsed": true
   },
   "outputs": [],
   "source": [
    "import pandas as pd\n",
    "import numpy as np\n",
    "import scipy.spatial.distance as dist\n",
    "\n",
    "iris = pd.read_csv(\"iris.csv\")\n",
    "distance_matrix = dist.squareform(dist.pdist(iris.ix[:,:4].as_matrix()))"
   ]
  },
  {
   "cell_type": "code",
   "execution_count": 21,
   "metadata": {
    "collapsed": true
   },
   "outputs": [],
   "source": [
    "def mutual_reachability_distance_matrix(distance_matrix, min_points):\n",
    "    dim = distance_matrix.shape[0]\n",
    "    core_distances = np.partition(distance_matrix, min_points, axis=0)[min_points]\n",
    "    core_distance_matrix = core_distances.repeat(dim).reshape((dim,dim))\n",
    "    result = np.dstack((core_distance_matrix, core_distance_matrix.T, distance_matrix)).max(axis=2)\n",
    "    return result"
   ]
  },
  {
   "cell_type": "code",
   "execution_count": 22,
   "metadata": {
    "collapsed": false
   },
   "outputs": [],
   "source": [
    "mr_dist_matrix = mutual_reachability_distance_matrix(distance_matrix, 10)"
   ]
  },
  {
   "cell_type": "code",
   "execution_count": 23,
   "metadata": {
    "collapsed": false
   },
   "outputs": [],
   "source": [
    "import fastcluster\n",
    "import scipy.cluster.hierarchy as hclust"
   ]
  },
  {
   "cell_type": "code",
   "execution_count": 24,
   "metadata": {
    "collapsed": true
   },
   "outputs": [],
   "source": [
    "ctree = fastcluster.single(mr_dist_matrix)"
   ]
  },
  {
   "cell_type": "code",
   "execution_count": 25,
   "metadata": {
    "collapsed": true
   },
   "outputs": [],
   "source": [
    "hctree = hclust.to_tree(ctree)"
   ]
  },
  {
   "cell_type": "code",
   "execution_count": 117,
   "metadata": {
    "collapsed": false
   },
   "outputs": [],
   "source": [
    "condensed, final_id = condense_tree(hctree, 10, 0)"
   ]
  },
  {
   "cell_type": "markdown",
   "metadata": {},
   "source": [
    "Now we need to flatten the tree. The easiest way is to flatten a node into a list of parent children relations, and thn have a flatten tree function that recursively calls `flatten_node` down the whole tree."
   ]
  },
  {
   "cell_type": "code",
   "execution_count": 119,
   "metadata": {
    "collapsed": false
   },
   "outputs": [],
   "source": [
    "def flatten_node(tree_node):\n",
    "    return [(tree_node.id, x.id, tree_node.dist, x.child_size) for x in tree_node.children\n",
    "             if tree_node.id != x.id]"
   ]
  },
  {
   "cell_type": "code",
   "execution_count": 120,
   "metadata": {
    "collapsed": false
   },
   "outputs": [],
   "source": [
    "def flatten_tree(tree):\n",
    "    if tree.is_leaf:\n",
    "        return []\n",
    "    result = flatten_node(tree)\n",
    "    for subtree in tree.children:\n",
    "        result.extend(flatten_tree(subtree))\n",
    "    return result"
   ]
  },
  {
   "cell_type": "code",
   "execution_count": 121,
   "metadata": {
    "collapsed": false,
    "scrolled": true
   },
   "outputs": [
    {
     "data": {
      "text/plain": [
       "[(0, 1, 15.353690797474098, 50),\n",
       " (0, 4, 15.353690797474098, 100),\n",
       " (1, 'POINT 41', 2.9913846843382017, 1),\n",
       " (1, 'POINT 13', 2.6725405663175401, 1),\n",
       " (1, 'POINT 22', 2.6725405663175401, 1),\n",
       " (1, 'POINT 15', 2.257239278760959, 1),\n",
       " (1, 'POINT 8', 1.8764282443617202, 1),\n",
       " (1, 'POINT 38', 1.8764282443617202, 1),\n",
       " (1, 'POINT 42', 1.8764282443617202, 1),\n",
       " (1, 'POINT 5', 1.584309084792646, 1),\n",
       " (1, 'POINT 18', 1.584309084792646, 1),\n",
       " (1, 'POINT 44', 1.4481717299591841, 1),\n",
       " (1, 'POINT 14', 1.3709128075488768, 1),\n",
       " (1, 'POINT 33', 1.3709128075488768, 1),\n",
       " (1, 'POINT 23', 1.3370718298018256, 1),\n",
       " (1, 'POINT 24', 1.3370718298018256, 1),\n",
       " (1, 'POINT 20', 1.3370718298018256, 1),\n",
       " (1, 'POINT 31', 1.3370718298018256, 1),\n",
       " (1, 'POINT 26', 1.3370718298018256, 1),\n",
       " (1, 'POINT 43', 1.3370718298018256, 1),\n",
       " (1, 'POINT 16', 1.2246852859847495, 1),\n",
       " (1, 'POINT 32', 1.2246852859847495, 1),\n",
       " (1, 'POINT 36', 1.166842817904191, 1),\n",
       " (1, 2, 1.0373698111110854, 15),\n",
       " (1, 3, 1.0373698111110854, 14),\n",
       " (2, 'POINT 49', 0.84727852045688545, 1),\n",
       " (2, 'POINT 11', 0.77498529774551617, 1),\n",
       " (2, 'POINT 0', 0.73600113613606488, 1),\n",
       " (2, 'POINT 17', 0.73600113613606488, 1),\n",
       " (2, 'POINT 28', 0.73600113613606488, 1),\n",
       " (2, 'POINT 4', 0.73600113613606488, 1),\n",
       " (2, 'POINT 40', 0.73600113613606488, 1),\n",
       " (2, 'POINT 7', 0.73600113613606488, 1),\n",
       " (2, 'POINT 39', 0.73600113613606488, 1),\n",
       " (2, 'POINT 27', 0.73600113613606488, 1),\n",
       " (2, 'POINT 19', 0.73600113613606488, 1),\n",
       " (2, 'POINT 21', 0.73600113613606488, 1),\n",
       " (2, 'POINT 10', 0.73600113613606488, 1),\n",
       " (2, 'POINT 46', 0.73600113613606488, 1),\n",
       " (2, 'POINT 48', 0.73600113613606488, 1),\n",
       " (3, 'POINT 25', 0.96470510930842557, 1),\n",
       " (3, 'POINT 35', 0.93597405848569692, 1),\n",
       " (3, 'POINT 6', 0.72734858840185312, 1),\n",
       " (3, 'POINT 2', 0.67004286748737374, 1),\n",
       " (3, 'POINT 47', 0.67004286748737374, 1),\n",
       " (3, 'POINT 29', 0.67004286748737374, 1),\n",
       " (3, 'POINT 30', 0.67004286748737374, 1),\n",
       " (3, 'POINT 12', 0.67004286748737374, 1),\n",
       " (3, 'POINT 37', 0.67004286748737374, 1),\n",
       " (3, 'POINT 9', 0.67004286748737374, 1),\n",
       " (3, 'POINT 34', 0.67004286748737374, 1),\n",
       " (3, 'POINT 3', 0.67004286748737374, 1),\n",
       " (3, 'POINT 1', 0.67004286748737374, 1),\n",
       " (3, 'POINT 45', 0.67004286748737374, 1),\n",
       " (4, 'POINT 60', 5.0931923501356025, 1),\n",
       " (4, 'POINT 98', 5.0931923501356025, 1),\n",
       " (4, 'POINT 57', 5.0931923501356025, 1),\n",
       " (4, 'POINT 93', 5.0931923501356025, 1),\n",
       " (4, 'POINT 106', 4.367415033321306, 1),\n",
       " (4, 'POINT 118', 3.0425450454613232, 1),\n",
       " (4, 'POINT 105', 3.0425450454613232, 1),\n",
       " (4, 'POINT 122', 3.0425450454613232, 1),\n",
       " (4, 'POINT 117', 3.0425450454613232, 1),\n",
       " (4, 'POINT 131', 3.0425450454613232, 1),\n",
       " (4, 'POINT 114', 2.5726031639465896, 1),\n",
       " (4, 'POINT 134', 2.5726031639465896, 1),\n",
       " (4, 'POINT 135', 2.3608538999519197, 1),\n",
       " (4, 'POINT 109', 2.3608538999519197, 1),\n",
       " (4, 'POINT 107', 2.3608538999519197, 1),\n",
       " (4, 'POINT 130', 2.3608538999519197, 1),\n",
       " (4, 'POINT 68', 2.2110223488015897, 1),\n",
       " (4, 'POINT 87', 2.2110223488015897, 1),\n",
       " (4, 5, 2.0175416642296438, 25),\n",
       " (4, 6, 2.0175416642296438, 57),\n",
       " (5, 'POINT 64', 1.8275465885180813, 1),\n",
       " (5, 'POINT 74', 1.7416070677074125, 1),\n",
       " (5, 'POINT 97', 1.7416070677074125, 1),\n",
       " (5, 'POINT 61', 1.7416070677074125, 1),\n",
       " (5, 'POINT 84', 1.7416070677074125, 1),\n",
       " (5, 'POINT 55', 1.7416070677074125, 1),\n",
       " (5, 'POINT 66', 1.7416070677074125, 1),\n",
       " (5, 'POINT 62', 1.7168015690189522, 1),\n",
       " (5, 'POINT 79', 1.5698511680539229, 1),\n",
       " (5, 'POINT 90', 1.446275215026668, 1),\n",
       " (5, 'POINT 71', 1.446275215026668, 1),\n",
       " (5, 'POINT 88', 1.446275215026668, 1),\n",
       " (5, 'POINT 95', 1.446275215026668, 1),\n",
       " (5, 'POINT 96', 1.446275215026668, 1),\n",
       " (5, 'POINT 94', 1.446275215026668, 1),\n",
       " (5, 'POINT 99', 1.446275215026668, 1),\n",
       " (5, 'POINT 82', 1.446275215026668, 1),\n",
       " (5, 'POINT 67', 1.446275215026668, 1),\n",
       " (5, 'POINT 92', 1.446275215026668, 1),\n",
       " (5, 'POINT 81', 1.446275215026668, 1),\n",
       " (5, 'POINT 59', 1.446275215026668, 1),\n",
       " (5, 'POINT 80', 1.446275215026668, 1),\n",
       " (5, 'POINT 69', 1.446275215026668, 1),\n",
       " (5, 'POINT 53', 1.446275215026668, 1),\n",
       " (5, 'POINT 89', 1.446275215026668, 1),\n",
       " (6, 'POINT 129', 2.0124436561393244, 1),\n",
       " (6, 'POINT 108', 1.9137744632200515, 1),\n",
       " (6, 'POINT 100', 1.9029785975887783, 1),\n",
       " (6, 'POINT 50', 1.862250799956203, 1),\n",
       " (6, 7, 1.8544030994458138, 25),\n",
       " (6, 8, 1.8544030994458138, 28),\n",
       " (7, 'POINT 136', 1.7951127952890338, 1),\n",
       " (7, 'POINT 52', 1.6869028411902942, 1),\n",
       " (7, 'POINT 77', 1.6869028411902942, 1),\n",
       " (7, 'POINT 104', 1.6411541972665451, 1),\n",
       " (7, 'POINT 124', 1.6411541972665451, 1),\n",
       " (7, 'POINT 140', 1.6411541972665451, 1),\n",
       " (7, 'POINT 120', 1.6411541972665451, 1),\n",
       " (7, 'POINT 144', 1.6411541972665451, 1),\n",
       " (7, 'POINT 125', 1.6411541972665451, 1),\n",
       " (7, 'POINT 102', 1.6411541972665451, 1),\n",
       " (7, 'POINT 143', 1.6411541972665451, 1),\n",
       " (7, 'POINT 111', 1.6000376019654117, 1),\n",
       " (7, 'POINT 110', 1.6000376019654117, 1),\n",
       " (7, 'POINT 147', 1.6000376019654117, 1),\n",
       " (7, 'POINT 103', 1.6000376019654117, 1),\n",
       " (7, 'POINT 116', 1.6000376019654117, 1),\n",
       " (7, 'POINT 137', 1.6000376019654117, 1),\n",
       " (7, 'POINT 148', 1.6000376019654117, 1),\n",
       " (7, 'POINT 141', 1.6000376019654117, 1),\n",
       " (7, 'POINT 115', 1.6000376019654117, 1),\n",
       " (7, 'POINT 145', 1.6000376019654117, 1),\n",
       " (7, 'POINT 128', 1.6000376019654117, 1),\n",
       " (7, 'POINT 132', 1.6000376019654117, 1),\n",
       " (7, 'POINT 112', 1.6000376019654117, 1),\n",
       " (7, 'POINT 139', 1.6000376019654117, 1),\n",
       " (8, 'POINT 85', 1.8396472901451806, 1),\n",
       " (8, 'POINT 76', 1.7943928276181131, 1),\n",
       " (8, 'POINT 86', 1.7943928276181131, 1),\n",
       " (8, 'POINT 78', 1.7430600573777955, 1),\n",
       " (8, 'POINT 73', 1.7430600573777955, 1),\n",
       " (8, 'POINT 63', 1.7430600573777955, 1),\n",
       " (8, 'POINT 91', 1.7430600573777955, 1),\n",
       " (8, 'POINT 56', 1.7317947096264048, 1),\n",
       " (8, 'POINT 54', 1.7317947096264048, 1),\n",
       " (8, 'POINT 58', 1.7317947096264048, 1),\n",
       " (8, 'POINT 51', 1.7317947096264048, 1),\n",
       " (8, 'POINT 65', 1.7317947096264048, 1),\n",
       " (8, 'POINT 75', 1.7317947096264048, 1),\n",
       " (8, 'POINT 119', 1.6311335652451318, 1),\n",
       " (8, 'POINT 146', 1.4524031891643314, 1),\n",
       " (8, 'POINT 121', 1.4265921267278707, 1),\n",
       " (8, 'POINT 72', 1.4150334701112506, 1),\n",
       " (8, 'POINT 113', 1.3706855893483565, 1),\n",
       " (8, 'POINT 101', 1.3706855893483565, 1),\n",
       " (8, 'POINT 142', 1.3706855893483565, 1),\n",
       " (8, 'POINT 83', 1.3706855893483565, 1),\n",
       " (8, 'POINT 149', 1.3706855893483565, 1),\n",
       " (8, 'POINT 123', 1.3706855893483565, 1),\n",
       " (8, 'POINT 133', 1.3706855893483565, 1),\n",
       " (8, 'POINT 126', 1.3706855893483565, 1),\n",
       " (8, 'POINT 127', 1.3706855893483565, 1),\n",
       " (8, 'POINT 70', 1.3706855893483565, 1),\n",
       " (8, 'POINT 138', 1.3706855893483565, 1)]"
      ]
     },
     "execution_count": 121,
     "metadata": {},
     "output_type": "execute_result"
    }
   ],
   "source": [
    "flatten_tree(condensed)"
   ]
  },
  {
   "cell_type": "markdown",
   "metadata": {},
   "source": [
    "Well that looks not entirely unreasonable. Let's have a quick check that we actually have all the POINT data (one for each original data point) with no duplication."
   ]
  },
  {
   "cell_type": "code",
   "execution_count": 94,
   "metadata": {
    "collapsed": false
   },
   "outputs": [],
   "source": [
    "point_ids = [int(x[1].split()[1]) for x in flatten_tree(condensed) if isinstance(x[1], str)]"
   ]
  },
  {
   "cell_type": "code",
   "execution_count": 95,
   "metadata": {
    "collapsed": false
   },
   "outputs": [
    {
     "data": {
      "text/plain": [
       "(150, 150)"
      ]
     },
     "execution_count": 95,
     "metadata": {},
     "output_type": "execute_result"
    }
   ],
   "source": [
    "len(point_ids), len(set(point_ids))"
   ]
  },
  {
   "cell_type": "markdown",
   "metadata": {
    "collapsed": true
   },
   "source": [
    "Success! Of course we actually want to make it a numpy array and if we have strings in there we're going to end up with quite a mess, so let's not do that. We can make a new version of condense tree that gives negative values to leaf nodes."
   ]
  },
  {
   "cell_type": "code",
   "execution_count": 122,
   "metadata": {
    "collapsed": true
   },
   "outputs": [],
   "source": [
    "def condense_tree(tree, min_cluster_size=10, next_id=0):\n",
    "        \n",
    "    #Verbose assert\n",
    "    if tree.count == 0:\n",
    "        print(\"Invalid input: Null tree\")\n",
    "        result = Node(-1, -1, [], -1, False)\n",
    "        return result\n",
    "    elif tree.count == 1:\n",
    "        #Passed in a single node. only that node\n",
    "        result = Node(-1, tree.dist, [], 1, True)\n",
    "        return result\n",
    "        \n",
    "    result = CondensedTreeNode(next_id, tree.dist, [], tree.left.count + tree.right.count, 0)\n",
    "        \n",
    "    #If the left node is too small, add a leaf\n",
    "    if tree.left.count <= min_cluster_size:\n",
    "        leaves = get_leaves(tree.left)\n",
    "        for leaf in leaves:\n",
    "            result.add_child(CondensedTreeNode(-leaf.id, tree.left.dist, [], 1, True))\n",
    "    elif tree.right.count <= min_cluster_size:\n",
    "        child, next_id = condense_tree(tree.left, min_cluster_size, next_id)\n",
    "        result.add_child(child)\n",
    "    else:\n",
    "        child, next_id = condense_tree(tree.left, min_cluster_size, next_id + 1)\n",
    "        result.add_child(child)\n",
    "            \n",
    "    #If the right node is too small, add a leaf\n",
    "    if tree.right.count <= min_cluster_size:\n",
    "        leaves = get_leaves(tree.right)\n",
    "        for leaf in leaves:\n",
    "            result.add_child(CondensedTreeNode(-leaf.id, tree.right.dist, [], 1, True))\n",
    "    elif tree.left.count <= min_cluster_size:\n",
    "        child, next_id = condense_tree(tree.right, min_cluster_size, next_id)\n",
    "        result.add_child(child)        \n",
    "    else:\n",
    "        child, next_id = condense_tree(tree.right, min_cluster_size, next_id + 1)\n",
    "        result.add_child(child)\n",
    "        \n",
    "    return result, next_id"
   ]
  },
  {
   "cell_type": "code",
   "execution_count": 123,
   "metadata": {
    "collapsed": false
   },
   "outputs": [
    {
     "data": {
      "text/plain": [
       "array([[   0.        ,    1.        ,   15.3536908 ,   50.        ],\n",
       "       [   0.        ,    4.        ,   15.3536908 ,  100.        ],\n",
       "       [   1.        ,  -41.        ,    2.99138468,    1.        ],\n",
       "       [   1.        ,  -13.        ,    2.67254057,    1.        ],\n",
       "       [   1.        ,  -22.        ,    2.67254057,    1.        ],\n",
       "       [   1.        ,  -15.        ,    2.25723928,    1.        ],\n",
       "       [   1.        ,   -8.        ,    1.87642824,    1.        ],\n",
       "       [   1.        ,  -38.        ,    1.87642824,    1.        ],\n",
       "       [   1.        ,  -42.        ,    1.87642824,    1.        ],\n",
       "       [   1.        ,   -5.        ,    1.58430908,    1.        ],\n",
       "       [   1.        ,  -18.        ,    1.58430908,    1.        ],\n",
       "       [   1.        ,  -44.        ,    1.44817173,    1.        ],\n",
       "       [   1.        ,  -14.        ,    1.37091281,    1.        ],\n",
       "       [   1.        ,  -33.        ,    1.37091281,    1.        ],\n",
       "       [   1.        ,  -23.        ,    1.33707183,    1.        ],\n",
       "       [   1.        ,  -24.        ,    1.33707183,    1.        ],\n",
       "       [   1.        ,  -20.        ,    1.33707183,    1.        ],\n",
       "       [   1.        ,  -31.        ,    1.33707183,    1.        ],\n",
       "       [   1.        ,  -26.        ,    1.33707183,    1.        ],\n",
       "       [   1.        ,  -43.        ,    1.33707183,    1.        ],\n",
       "       [   1.        ,  -16.        ,    1.22468529,    1.        ],\n",
       "       [   1.        ,  -32.        ,    1.22468529,    1.        ],\n",
       "       [   1.        ,  -36.        ,    1.16684282,    1.        ],\n",
       "       [   1.        ,    2.        ,    1.03736981,   15.        ],\n",
       "       [   1.        ,    3.        ,    1.03736981,   14.        ],\n",
       "       [   2.        ,  -49.        ,    0.84727852,    1.        ],\n",
       "       [   2.        ,  -11.        ,    0.7749853 ,    1.        ],\n",
       "       [   2.        ,    0.        ,    0.73600114,    1.        ],\n",
       "       [   2.        ,  -17.        ,    0.73600114,    1.        ],\n",
       "       [   2.        ,  -28.        ,    0.73600114,    1.        ],\n",
       "       [   2.        ,   -4.        ,    0.73600114,    1.        ],\n",
       "       [   2.        ,  -40.        ,    0.73600114,    1.        ],\n",
       "       [   2.        ,   -7.        ,    0.73600114,    1.        ],\n",
       "       [   2.        ,  -39.        ,    0.73600114,    1.        ],\n",
       "       [   2.        ,  -27.        ,    0.73600114,    1.        ],\n",
       "       [   2.        ,  -19.        ,    0.73600114,    1.        ],\n",
       "       [   2.        ,  -21.        ,    0.73600114,    1.        ],\n",
       "       [   2.        ,  -10.        ,    0.73600114,    1.        ],\n",
       "       [   2.        ,  -46.        ,    0.73600114,    1.        ],\n",
       "       [   2.        ,  -48.        ,    0.73600114,    1.        ],\n",
       "       [   3.        ,  -25.        ,    0.96470511,    1.        ],\n",
       "       [   3.        ,  -35.        ,    0.93597406,    1.        ],\n",
       "       [   3.        ,   -6.        ,    0.72734859,    1.        ],\n",
       "       [   3.        ,   -2.        ,    0.67004287,    1.        ],\n",
       "       [   3.        ,  -47.        ,    0.67004287,    1.        ],\n",
       "       [   3.        ,  -29.        ,    0.67004287,    1.        ],\n",
       "       [   3.        ,  -30.        ,    0.67004287,    1.        ],\n",
       "       [   3.        ,  -12.        ,    0.67004287,    1.        ],\n",
       "       [   3.        ,  -37.        ,    0.67004287,    1.        ],\n",
       "       [   3.        ,   -9.        ,    0.67004287,    1.        ],\n",
       "       [   3.        ,  -34.        ,    0.67004287,    1.        ],\n",
       "       [   3.        ,   -3.        ,    0.67004287,    1.        ],\n",
       "       [   3.        ,   -1.        ,    0.67004287,    1.        ],\n",
       "       [   3.        ,  -45.        ,    0.67004287,    1.        ],\n",
       "       [   4.        ,  -60.        ,    5.09319235,    1.        ],\n",
       "       [   4.        ,  -98.        ,    5.09319235,    1.        ],\n",
       "       [   4.        ,  -57.        ,    5.09319235,    1.        ],\n",
       "       [   4.        ,  -93.        ,    5.09319235,    1.        ],\n",
       "       [   4.        , -106.        ,    4.36741503,    1.        ],\n",
       "       [   4.        , -118.        ,    3.04254505,    1.        ],\n",
       "       [   4.        , -105.        ,    3.04254505,    1.        ],\n",
       "       [   4.        , -122.        ,    3.04254505,    1.        ],\n",
       "       [   4.        , -117.        ,    3.04254505,    1.        ],\n",
       "       [   4.        , -131.        ,    3.04254505,    1.        ],\n",
       "       [   4.        , -114.        ,    2.57260316,    1.        ],\n",
       "       [   4.        , -134.        ,    2.57260316,    1.        ],\n",
       "       [   4.        , -135.        ,    2.3608539 ,    1.        ],\n",
       "       [   4.        , -109.        ,    2.3608539 ,    1.        ],\n",
       "       [   4.        , -107.        ,    2.3608539 ,    1.        ],\n",
       "       [   4.        , -130.        ,    2.3608539 ,    1.        ],\n",
       "       [   4.        ,  -68.        ,    2.21102235,    1.        ],\n",
       "       [   4.        ,  -87.        ,    2.21102235,    1.        ],\n",
       "       [   4.        ,    5.        ,    2.01754166,   25.        ],\n",
       "       [   4.        ,    6.        ,    2.01754166,   57.        ],\n",
       "       [   5.        ,  -64.        ,    1.82754659,    1.        ],\n",
       "       [   5.        ,  -74.        ,    1.74160707,    1.        ],\n",
       "       [   5.        ,  -97.        ,    1.74160707,    1.        ],\n",
       "       [   5.        ,  -61.        ,    1.74160707,    1.        ],\n",
       "       [   5.        ,  -84.        ,    1.74160707,    1.        ],\n",
       "       [   5.        ,  -55.        ,    1.74160707,    1.        ],\n",
       "       [   5.        ,  -66.        ,    1.74160707,    1.        ],\n",
       "       [   5.        ,  -62.        ,    1.71680157,    1.        ],\n",
       "       [   5.        ,  -79.        ,    1.56985117,    1.        ],\n",
       "       [   5.        ,  -90.        ,    1.44627522,    1.        ],\n",
       "       [   5.        ,  -71.        ,    1.44627522,    1.        ],\n",
       "       [   5.        ,  -88.        ,    1.44627522,    1.        ],\n",
       "       [   5.        ,  -95.        ,    1.44627522,    1.        ],\n",
       "       [   5.        ,  -96.        ,    1.44627522,    1.        ],\n",
       "       [   5.        ,  -94.        ,    1.44627522,    1.        ],\n",
       "       [   5.        ,  -99.        ,    1.44627522,    1.        ],\n",
       "       [   5.        ,  -82.        ,    1.44627522,    1.        ],\n",
       "       [   5.        ,  -67.        ,    1.44627522,    1.        ],\n",
       "       [   5.        ,  -92.        ,    1.44627522,    1.        ],\n",
       "       [   5.        ,  -81.        ,    1.44627522,    1.        ],\n",
       "       [   5.        ,  -59.        ,    1.44627522,    1.        ],\n",
       "       [   5.        ,  -80.        ,    1.44627522,    1.        ],\n",
       "       [   5.        ,  -69.        ,    1.44627522,    1.        ],\n",
       "       [   5.        ,  -53.        ,    1.44627522,    1.        ],\n",
       "       [   5.        ,  -89.        ,    1.44627522,    1.        ],\n",
       "       [   6.        , -129.        ,    2.01244366,    1.        ],\n",
       "       [   6.        , -108.        ,    1.91377446,    1.        ],\n",
       "       [   6.        , -100.        ,    1.9029786 ,    1.        ],\n",
       "       [   6.        ,  -50.        ,    1.8622508 ,    1.        ],\n",
       "       [   6.        ,    7.        ,    1.8544031 ,   25.        ],\n",
       "       [   6.        ,    8.        ,    1.8544031 ,   28.        ],\n",
       "       [   7.        , -136.        ,    1.7951128 ,    1.        ],\n",
       "       [   7.        ,  -52.        ,    1.68690284,    1.        ],\n",
       "       [   7.        ,  -77.        ,    1.68690284,    1.        ],\n",
       "       [   7.        , -104.        ,    1.6411542 ,    1.        ],\n",
       "       [   7.        , -124.        ,    1.6411542 ,    1.        ],\n",
       "       [   7.        , -140.        ,    1.6411542 ,    1.        ],\n",
       "       [   7.        , -120.        ,    1.6411542 ,    1.        ],\n",
       "       [   7.        , -144.        ,    1.6411542 ,    1.        ],\n",
       "       [   7.        , -125.        ,    1.6411542 ,    1.        ],\n",
       "       [   7.        , -102.        ,    1.6411542 ,    1.        ],\n",
       "       [   7.        , -143.        ,    1.6411542 ,    1.        ],\n",
       "       [   7.        , -111.        ,    1.6000376 ,    1.        ],\n",
       "       [   7.        , -110.        ,    1.6000376 ,    1.        ],\n",
       "       [   7.        , -147.        ,    1.6000376 ,    1.        ],\n",
       "       [   7.        , -103.        ,    1.6000376 ,    1.        ],\n",
       "       [   7.        , -116.        ,    1.6000376 ,    1.        ],\n",
       "       [   7.        , -137.        ,    1.6000376 ,    1.        ],\n",
       "       [   7.        , -148.        ,    1.6000376 ,    1.        ],\n",
       "       [   7.        , -141.        ,    1.6000376 ,    1.        ],\n",
       "       [   7.        , -115.        ,    1.6000376 ,    1.        ],\n",
       "       [   7.        , -145.        ,    1.6000376 ,    1.        ],\n",
       "       [   7.        , -128.        ,    1.6000376 ,    1.        ],\n",
       "       [   7.        , -132.        ,    1.6000376 ,    1.        ],\n",
       "       [   7.        , -112.        ,    1.6000376 ,    1.        ],\n",
       "       [   7.        , -139.        ,    1.6000376 ,    1.        ],\n",
       "       [   8.        ,  -85.        ,    1.83964729,    1.        ],\n",
       "       [   8.        ,  -76.        ,    1.79439283,    1.        ],\n",
       "       [   8.        ,  -86.        ,    1.79439283,    1.        ],\n",
       "       [   8.        ,  -78.        ,    1.74306006,    1.        ],\n",
       "       [   8.        ,  -73.        ,    1.74306006,    1.        ],\n",
       "       [   8.        ,  -63.        ,    1.74306006,    1.        ],\n",
       "       [   8.        ,  -91.        ,    1.74306006,    1.        ],\n",
       "       [   8.        ,  -56.        ,    1.73179471,    1.        ],\n",
       "       [   8.        ,  -54.        ,    1.73179471,    1.        ],\n",
       "       [   8.        ,  -58.        ,    1.73179471,    1.        ],\n",
       "       [   8.        ,  -51.        ,    1.73179471,    1.        ],\n",
       "       [   8.        ,  -65.        ,    1.73179471,    1.        ],\n",
       "       [   8.        ,  -75.        ,    1.73179471,    1.        ],\n",
       "       [   8.        , -119.        ,    1.63113357,    1.        ],\n",
       "       [   8.        , -146.        ,    1.45240319,    1.        ],\n",
       "       [   8.        , -121.        ,    1.42659213,    1.        ],\n",
       "       [   8.        ,  -72.        ,    1.41503347,    1.        ],\n",
       "       [   8.        , -113.        ,    1.37068559,    1.        ],\n",
       "       [   8.        , -101.        ,    1.37068559,    1.        ],\n",
       "       [   8.        , -142.        ,    1.37068559,    1.        ],\n",
       "       [   8.        ,  -83.        ,    1.37068559,    1.        ],\n",
       "       [   8.        , -149.        ,    1.37068559,    1.        ],\n",
       "       [   8.        , -123.        ,    1.37068559,    1.        ],\n",
       "       [   8.        , -133.        ,    1.37068559,    1.        ],\n",
       "       [   8.        , -126.        ,    1.37068559,    1.        ],\n",
       "       [   8.        , -127.        ,    1.37068559,    1.        ],\n",
       "       [   8.        ,  -70.        ,    1.37068559,    1.        ],\n",
       "       [   8.        , -138.        ,    1.37068559,    1.        ]])"
      ]
     },
     "execution_count": 123,
     "metadata": {},
     "output_type": "execute_result"
    }
   ],
   "source": [
    "condensed, final_id = condense_tree(hctree)\n",
    "np.array(flatten_tree(condensed))"
   ]
  },
  {
   "cell_type": "code",
   "execution_count": 104,
   "metadata": {
    "collapsed": false
   },
   "outputs": [
    {
     "data": {
      "text/plain": [
       "15.353690797474098"
      ]
     },
     "execution_count": 104,
     "metadata": {},
     "output_type": "execute_result"
    }
   ],
   "source": [
    "hctree.dist"
   ]
  },
  {
   "cell_type": "code",
   "execution_count": 105,
   "metadata": {
    "collapsed": false
   },
   "outputs": [
    {
     "data": {
      "text/plain": [
       "array([[  41.        ,  293.        ,    2.99138468,   50.        ],\n",
       "       [ 285.        ,  292.        ,    3.04254505,   95.        ],\n",
       "       [ 106.        ,  295.        ,    4.36741503,   96.        ],\n",
       "       [ 289.        ,  296.        ,    5.09319235,  100.        ],\n",
       "       [ 294.        ,  297.        ,   15.3536908 ,  150.        ]])"
      ]
     },
     "execution_count": 105,
     "metadata": {},
     "output_type": "execute_result"
    }
   ],
   "source": [
    "ctree[-5:]"
   ]
  },
  {
   "cell_type": "code",
   "execution_count": null,
   "metadata": {
    "collapsed": true
   },
   "outputs": [],
   "source": []
  }
 ],
 "metadata": {
  "kernelspec": {
   "display_name": "Python 2",
   "language": "python",
   "name": "python2"
  },
  "language_info": {
   "codemirror_mode": {
    "name": "ipython",
    "version": 2
   },
   "file_extension": ".py",
   "mimetype": "text/x-python",
   "name": "python",
   "nbconvert_exporter": "python",
   "pygments_lexer": "ipython2",
   "version": "2.7.9"
  }
 },
 "nbformat": 4,
 "nbformat_minor": 0
}
